{
  "nbformat": 4,
  "nbformat_minor": 0,
  "metadata": {
    "colab": {
      "name": "Prediction_Model_Final_pynb.ipynb",
      "version": "0.3.2",
      "provenance": [],
      "collapsed_sections": []
    },
    "language_info": {
      "codemirror_mode": {
        "name": "ipython",
        "version": 3
      },
      "file_extension": ".py",
      "mimetype": "text/x-python",
      "name": "python",
      "nbconvert_exporter": "python",
      "pygments_lexer": "ipython3",
      "version": "3.7.3"
    },
    "kernelspec": {
      "display_name": "Python 3",
      "language": "python",
      "name": "python3"
    },
    "accelerator": "GPU"
  },
  "cells": [
    {
      "cell_type": "code",
      "metadata": {
        "colab_type": "code",
        "id": "pSRJmXy_gkxM",
        "outputId": "49cc8036-39ae-4910-9132-c2d8512a5e0b",
        "slideshow": {
          "slide_type": "slide"
        },
        "colab": {
          "resources": {
            "http://localhost:8080/nbextensions/google.colab/files.js": {
              "data": "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",
              "ok": true,
              "headers": [
                [
                  "content-type",
                  "application/javascript"
                ]
              ],
              "status": 200,
              "status_text": ""
            }
          },
          "base_uri": "https://localhost:8080/",
          "height": 75
        }
      },
      "source": [
        "#importing the files needed for the model (DJIA Table)\n",
        "from google.colab import files\n",
        "uploaded=files.upload()"
      ],
      "execution_count": 1,
      "outputs": [
        {
          "output_type": "display_data",
          "data": {
            "text/html": [
              "\n",
              "     <input type=\"file\" id=\"files-804800f2-e446-4daa-9bc8-0039abffe026\" name=\"files[]\" multiple disabled />\n",
              "     <output id=\"result-804800f2-e446-4daa-9bc8-0039abffe026\">\n",
              "      Upload widget is only available when the cell has been executed in the\n",
              "      current browser session. Please rerun this cell to enable.\n",
              "      </output>\n",
              "      <script src=\"/nbextensions/google.colab/files.js\"></script> "
            ],
            "text/plain": [
              "<IPython.core.display.HTML object>"
            ]
          },
          "metadata": {
            "tags": []
          }
        },
        {
          "output_type": "stream",
          "text": [
            "Saving DJIA_table.csv to DJIA_table.csv\n"
          ],
          "name": "stdout"
        }
      ]
    },
    {
      "cell_type": "code",
      "metadata": {
        "colab_type": "code",
        "id": "mkPkrtXfgzG1",
        "slideshow": {
          "slide_type": "subslide"
        },
        "colab": {}
      },
      "source": [
        "#importing the dependencies needed\n",
        "import pandas as pd\n",
        "import numpy as np\n",
        "from sklearn.metrics import r2_score\n",
        "import matplotlib.pyplot as plt"
      ],
      "execution_count": 0,
      "outputs": []
    },
    {
      "cell_type": "markdown",
      "metadata": {
        "colab_type": "text",
        "id": "e3ua_WkXlUG8",
        "slideshow": {
          "slide_type": "slide"
        }
      },
      "source": [
        "## **Feature extraction for LSTM model.**"
      ]
    },
    {
      "cell_type": "code",
      "metadata": {
        "colab_type": "code",
        "id": "_IgPkp_UhUSo",
        "outputId": "8c9851cb-00bc-4838-bcef-7654d7aeb6d9",
        "slideshow": {
          "slide_type": "slide"
        },
        "colab": {
          "base_uri": "https://localhost:8080/",
          "height": 202
        }
      },
      "source": [
        "#visualizing the data\n",
        "dtf=pd.read_csv(\"DJIA_table.csv\")\n",
        "dtf = dtf.sort_values(by = 'Date')\n",
        "dtf.head()"
      ],
      "execution_count": 3,
      "outputs": [
        {
          "output_type": "execute_result",
          "data": {
            "text/html": [
              "<div>\n",
              "<style scoped>\n",
              "    .dataframe tbody tr th:only-of-type {\n",
              "        vertical-align: middle;\n",
              "    }\n",
              "\n",
              "    .dataframe tbody tr th {\n",
              "        vertical-align: top;\n",
              "    }\n",
              "\n",
              "    .dataframe thead th {\n",
              "        text-align: right;\n",
              "    }\n",
              "</style>\n",
              "<table border=\"1\" class=\"dataframe\">\n",
              "  <thead>\n",
              "    <tr style=\"text-align: right;\">\n",
              "      <th></th>\n",
              "      <th>Date</th>\n",
              "      <th>Open</th>\n",
              "      <th>High</th>\n",
              "      <th>Low</th>\n",
              "      <th>Close</th>\n",
              "      <th>Volume</th>\n",
              "      <th>Adj Close</th>\n",
              "    </tr>\n",
              "  </thead>\n",
              "  <tbody>\n",
              "    <tr>\n",
              "      <th>1988</th>\n",
              "      <td>2008-08-08</td>\n",
              "      <td>11432.089844</td>\n",
              "      <td>11759.959961</td>\n",
              "      <td>11388.040039</td>\n",
              "      <td>11734.320312</td>\n",
              "      <td>212830000</td>\n",
              "      <td>11734.320312</td>\n",
              "    </tr>\n",
              "    <tr>\n",
              "      <th>1987</th>\n",
              "      <td>2008-08-11</td>\n",
              "      <td>11729.669922</td>\n",
              "      <td>11867.110352</td>\n",
              "      <td>11675.530273</td>\n",
              "      <td>11782.349609</td>\n",
              "      <td>183190000</td>\n",
              "      <td>11782.349609</td>\n",
              "    </tr>\n",
              "    <tr>\n",
              "      <th>1986</th>\n",
              "      <td>2008-08-12</td>\n",
              "      <td>11781.700195</td>\n",
              "      <td>11782.349609</td>\n",
              "      <td>11601.519531</td>\n",
              "      <td>11642.469727</td>\n",
              "      <td>173590000</td>\n",
              "      <td>11642.469727</td>\n",
              "    </tr>\n",
              "    <tr>\n",
              "      <th>1985</th>\n",
              "      <td>2008-08-13</td>\n",
              "      <td>11632.809570</td>\n",
              "      <td>11633.780273</td>\n",
              "      <td>11453.339844</td>\n",
              "      <td>11532.959961</td>\n",
              "      <td>182550000</td>\n",
              "      <td>11532.959961</td>\n",
              "    </tr>\n",
              "    <tr>\n",
              "      <th>1984</th>\n",
              "      <td>2008-08-14</td>\n",
              "      <td>11532.070312</td>\n",
              "      <td>11718.280273</td>\n",
              "      <td>11450.889648</td>\n",
              "      <td>11615.929688</td>\n",
              "      <td>159790000</td>\n",
              "      <td>11615.929688</td>\n",
              "    </tr>\n",
              "  </tbody>\n",
              "</table>\n",
              "</div>"
            ],
            "text/plain": [
              "            Date          Open  ...     Volume     Adj Close\n",
              "1988  2008-08-08  11432.089844  ...  212830000  11734.320312\n",
              "1987  2008-08-11  11729.669922  ...  183190000  11782.349609\n",
              "1986  2008-08-12  11781.700195  ...  173590000  11642.469727\n",
              "1985  2008-08-13  11632.809570  ...  182550000  11532.959961\n",
              "1984  2008-08-14  11532.070312  ...  159790000  11615.929688\n",
              "\n",
              "[5 rows x 7 columns]"
            ]
          },
          "metadata": {
            "tags": []
          },
          "execution_count": 3
        }
      ]
    },
    {
      "cell_type": "code",
      "metadata": {
        "colab_type": "code",
        "id": "3O6xiQaRhy01",
        "outputId": "b8104913-bc83-49d7-d77f-13c4c0df1d11",
        "slideshow": {
          "slide_type": "subslide"
        },
        "colab": {
          "base_uri": "https://localhost:8080/",
          "height": 202
        }
      },
      "source": [
        "#Input Data\n",
        "df=np.array(dtf.loc[:,[\"Open\",\"Close\",\"Adj Close\"]])\n",
        "pd.DataFrame(df,columns=[\"Open\",\"Close\",\"Adj Close\"]).head()"
      ],
      "execution_count": 4,
      "outputs": [
        {
          "output_type": "execute_result",
          "data": {
            "text/html": [
              "<div>\n",
              "<style scoped>\n",
              "    .dataframe tbody tr th:only-of-type {\n",
              "        vertical-align: middle;\n",
              "    }\n",
              "\n",
              "    .dataframe tbody tr th {\n",
              "        vertical-align: top;\n",
              "    }\n",
              "\n",
              "    .dataframe thead th {\n",
              "        text-align: right;\n",
              "    }\n",
              "</style>\n",
              "<table border=\"1\" class=\"dataframe\">\n",
              "  <thead>\n",
              "    <tr style=\"text-align: right;\">\n",
              "      <th></th>\n",
              "      <th>Open</th>\n",
              "      <th>Close</th>\n",
              "      <th>Adj Close</th>\n",
              "    </tr>\n",
              "  </thead>\n",
              "  <tbody>\n",
              "    <tr>\n",
              "      <th>0</th>\n",
              "      <td>11432.089844</td>\n",
              "      <td>11734.320312</td>\n",
              "      <td>11734.320312</td>\n",
              "    </tr>\n",
              "    <tr>\n",
              "      <th>1</th>\n",
              "      <td>11729.669922</td>\n",
              "      <td>11782.349609</td>\n",
              "      <td>11782.349609</td>\n",
              "    </tr>\n",
              "    <tr>\n",
              "      <th>2</th>\n",
              "      <td>11781.700195</td>\n",
              "      <td>11642.469727</td>\n",
              "      <td>11642.469727</td>\n",
              "    </tr>\n",
              "    <tr>\n",
              "      <th>3</th>\n",
              "      <td>11632.809570</td>\n",
              "      <td>11532.959961</td>\n",
              "      <td>11532.959961</td>\n",
              "    </tr>\n",
              "    <tr>\n",
              "      <th>4</th>\n",
              "      <td>11532.070312</td>\n",
              "      <td>11615.929688</td>\n",
              "      <td>11615.929688</td>\n",
              "    </tr>\n",
              "  </tbody>\n",
              "</table>\n",
              "</div>"
            ],
            "text/plain": [
              "           Open         Close     Adj Close\n",
              "0  11432.089844  11734.320312  11734.320312\n",
              "1  11729.669922  11782.349609  11782.349609\n",
              "2  11781.700195  11642.469727  11642.469727\n",
              "3  11632.809570  11532.959961  11532.959961\n",
              "4  11532.070312  11615.929688  11615.929688"
            ]
          },
          "metadata": {
            "tags": []
          },
          "execution_count": 4
        }
      ]
    },
    {
      "cell_type": "code",
      "metadata": {
        "colab_type": "code",
        "id": "Wg6p_aFxhZsT",
        "outputId": "79988b9e-8a55-4102-9fb3-674b8a5eee77",
        "slideshow": {
          "slide_type": "slide"
        },
        "colab": {
          "base_uri": "https://localhost:8080/",
          "height": 202
        }
      },
      "source": [
        "#Feature Scaling\n",
        "from sklearn.preprocessing import MinMaxScaler\n",
        "scaler=MinMaxScaler(feature_range=(0,1))\n",
        "df=scaler.fit_transform(df)\n",
        "pd.DataFrame(df).head()"
      ],
      "execution_count": 5,
      "outputs": [
        {
          "output_type": "execute_result",
          "data": {
            "text/html": [
              "<div>\n",
              "<style scoped>\n",
              "    .dataframe tbody tr th:only-of-type {\n",
              "        vertical-align: middle;\n",
              "    }\n",
              "\n",
              "    .dataframe tbody tr th {\n",
              "        vertical-align: top;\n",
              "    }\n",
              "\n",
              "    .dataframe thead th {\n",
              "        text-align: right;\n",
              "    }\n",
              "</style>\n",
              "<table border=\"1\" class=\"dataframe\">\n",
              "  <thead>\n",
              "    <tr style=\"text-align: right;\">\n",
              "      <th></th>\n",
              "      <th>0</th>\n",
              "      <th>1</th>\n",
              "      <th>2</th>\n",
              "    </tr>\n",
              "  </thead>\n",
              "  <tbody>\n",
              "    <tr>\n",
              "      <th>0</th>\n",
              "      <td>0.415114</td>\n",
              "      <td>0.440894</td>\n",
              "      <td>0.440894</td>\n",
              "    </tr>\n",
              "    <tr>\n",
              "      <th>1</th>\n",
              "      <td>0.440401</td>\n",
              "      <td>0.444976</td>\n",
              "      <td>0.444976</td>\n",
              "    </tr>\n",
              "    <tr>\n",
              "      <th>2</th>\n",
              "      <td>0.444822</td>\n",
              "      <td>0.433087</td>\n",
              "      <td>0.433087</td>\n",
              "    </tr>\n",
              "    <tr>\n",
              "      <th>3</th>\n",
              "      <td>0.432170</td>\n",
              "      <td>0.423779</td>\n",
              "      <td>0.423779</td>\n",
              "    </tr>\n",
              "    <tr>\n",
              "      <th>4</th>\n",
              "      <td>0.423610</td>\n",
              "      <td>0.430832</td>\n",
              "      <td>0.430832</td>\n",
              "    </tr>\n",
              "  </tbody>\n",
              "</table>\n",
              "</div>"
            ],
            "text/plain": [
              "          0         1         2\n",
              "0  0.415114  0.440894  0.440894\n",
              "1  0.440401  0.444976  0.444976\n",
              "2  0.444822  0.433087  0.433087\n",
              "3  0.432170  0.423779  0.423779\n",
              "4  0.423610  0.430832  0.430832"
            ]
          },
          "metadata": {
            "tags": []
          },
          "execution_count": 5
        }
      ]
    },
    {
      "cell_type": "markdown",
      "metadata": {
        "colab_type": "text",
        "id": "PPMOf-96_KyU",
        "slideshow": {
          "slide_type": "slide"
        }
      },
      "source": [
        "\n",
        "  \n",
        "   <img src=\"https://drive.google.com/uc?id=1yD4BZYeB2S_hebpRVJ3fewQtsC4uNV2g\">"
      ]
    },
    {
      "cell_type": "code",
      "metadata": {
        "colab_type": "code",
        "id": "tv518dlOh9NZ",
        "outputId": "fd76f93f-66ff-4d7e-cf7b-f83dff5870fa",
        "slideshow": {
          "slide_type": "subslide"
        },
        "colab": {
          "base_uri": "https://localhost:8080/",
          "height": 35
        }
      },
      "source": [
        "#Splitting the data into test and train sets\n",
        "\n",
        "split=0.15 #setting the split ratio for test_size\n",
        "test_size=int(df.shape[0]*split)\n",
        "test_size\n",
        "train_size=int(df.shape[0]-test_size)\n",
        "print(\"train size =\",train_size,\"   test_size =\",test_size)"
      ],
      "execution_count": 6,
      "outputs": [
        {
          "output_type": "stream",
          "text": [
            "train size = 1691    test_size = 298\n"
          ],
          "name": "stdout"
        }
      ]
    },
    {
      "cell_type": "code",
      "metadata": {
        "colab_type": "code",
        "id": "4_TV4WFMiP_X",
        "slideshow": {
          "slide_type": "slide"
        },
        "colab": {}
      },
      "source": [
        "#Splitting the data into different arrays for respective LSTM models to predict their foth values.\n",
        "#Raw data for feature extraction(Training)\n",
        "open_X_train=df[:train_size,0:1]\n",
        "close_X_train=df[:train_size,1:2]\n",
        "adj_X_train=df[:train_size,2:3]\n",
        "\n",
        "#Raw data for feature extraction(Testing)\n",
        "open_X_test=df[train_size:,0:1]\n",
        "close_X_test=df[train_size:,1:2]\n",
        "adj_X_test=df[train_size:,2:3]"
      ],
      "execution_count": 0,
      "outputs": []
    },
    {
      "cell_type": "code",
      "metadata": {
        "colab_type": "code",
        "id": "EHE9fD3vkKdk",
        "outputId": "b0593291-34dc-49a1-b16d-45902f3eec89",
        "slideshow": {
          "slide_type": "skip"
        },
        "colab": {
          "base_uri": "https://localhost:8080/",
          "height": 35
        }
      },
      "source": [
        "open_X_train.shape,open_X_test.shape"
      ],
      "execution_count": 8,
      "outputs": [
        {
          "output_type": "execute_result",
          "data": {
            "text/plain": [
              "((1691, 1), (298, 1))"
            ]
          },
          "metadata": {
            "tags": []
          },
          "execution_count": 8
        }
      ]
    },
    {
      "cell_type": "code",
      "metadata": {
        "colab_type": "code",
        "id": "IvQWeJ5yjdPn",
        "slideshow": {
          "slide_type": "slide"
        },
        "colab": {}
      },
      "source": [
        "#Creating DataSets of 60 timesteps for LSTM model to predict the forth value.\n",
        "ts=60\n",
        "def data_generate(raw_data):\n",
        "  X_data=[]\n",
        "  Y_data=[]\n",
        "  for i in range(ts,raw_data.shape[0]):\n",
        "    X_data.append(raw_data[i-ts:i,:])\n",
        "    Y_data.append(raw_data[i,:])\n",
        "  X_data=np.array(X_data)\n",
        "  Y_data=np.array(Y_data)\n",
        "  return X_data, Y_data"
      ],
      "execution_count": 0,
      "outputs": []
    },
    {
      "cell_type": "markdown",
      "metadata": {
        "colab_type": "text",
        "id": "n2_LXV2YYXsr",
        "slideshow": {
          "slide_type": "slide"
        }
      },
      "source": [
        "\n",
        "   <img src=\"https://drive.google.com/uc?id=1vKznVmaYV7euFzjsoQHQM4OXoQbhlqtW\" algin=left>"
      ]
    },
    {
      "cell_type": "markdown",
      "metadata": {
        "colab_type": "text",
        "id": "bqIYja9Wb0Nl",
        "slideshow": {
          "slide_type": "skip"
        }
      },
      "source": [
        ""
      ]
    },
    {
      "cell_type": "code",
      "metadata": {
        "colab_type": "code",
        "id": "KClX677MkRaX",
        "slideshow": {
          "slide_type": "slide"
        },
        "colab": {}
      },
      "source": [
        "#Training data for LSTM model\n",
        "open_X_train_gen, open_Y_train_gen = data_generate(open_X_train)\n",
        "close_X_train_gen, close_Y_train_gen = data_generate(close_X_train)\n",
        "adj_X_train_gen, adj_Y_train_gen = data_generate(adj_X_train)\n",
        "\n",
        "#Testing data for LSTM model\n",
        "open_X_test_gen, open_Y_test_gen = data_generate(open_X_test)\n",
        "close_X_test_gen, close_Y_test_gen = data_generate(close_X_test)\n",
        "adj_X_test_gen, adj_Y_test_gen = data_generate(adj_X_test)\n",
        "\n"
      ],
      "execution_count": 0,
      "outputs": []
    },
    {
      "cell_type": "code",
      "metadata": {
        "colab_type": "code",
        "id": "VoPgrs5zkbmc",
        "outputId": "73710e13-5ed8-45d1-ccf5-1a21b82aff58",
        "slideshow": {
          "slide_type": "skip"
        },
        "colab": {
          "base_uri": "https://localhost:8080/",
          "height": 35
        }
      },
      "source": [
        "open_X_train_gen.shape,open_X_train_gen.shape"
      ],
      "execution_count": 11,
      "outputs": [
        {
          "output_type": "execute_result",
          "data": {
            "text/plain": [
              "((1631, 60, 1), (1631, 60, 1))"
            ]
          },
          "metadata": {
            "tags": []
          },
          "execution_count": 11
        }
      ]
    },
    {
      "cell_type": "code",
      "metadata": {
        "colab_type": "code",
        "id": "1X5dSt55kiRu",
        "outputId": "09308e77-7092-4240-d84d-8c2220e84c94",
        "slideshow": {
          "slide_type": "subslide"
        },
        "colab": {
          "base_uri": "https://localhost:8080/",
          "height": 222
        }
      },
      "source": [
        "#Visualizing the generated training data(X)\n",
        "pd.DataFrame(close_X_train_gen.reshape(train_size-ts,ts)).head()"
      ],
      "execution_count": 12,
      "outputs": [
        {
          "output_type": "execute_result",
          "data": {
            "text/html": [
              "<div>\n",
              "<style scoped>\n",
              "    .dataframe tbody tr th:only-of-type {\n",
              "        vertical-align: middle;\n",
              "    }\n",
              "\n",
              "    .dataframe tbody tr th {\n",
              "        vertical-align: top;\n",
              "    }\n",
              "\n",
              "    .dataframe thead th {\n",
              "        text-align: right;\n",
              "    }\n",
              "</style>\n",
              "<table border=\"1\" class=\"dataframe\">\n",
              "  <thead>\n",
              "    <tr style=\"text-align: right;\">\n",
              "      <th></th>\n",
              "      <th>0</th>\n",
              "      <th>1</th>\n",
              "      <th>2</th>\n",
              "      <th>3</th>\n",
              "      <th>4</th>\n",
              "      <th>5</th>\n",
              "      <th>6</th>\n",
              "      <th>7</th>\n",
              "      <th>8</th>\n",
              "      <th>9</th>\n",
              "      <th>10</th>\n",
              "      <th>11</th>\n",
              "      <th>12</th>\n",
              "      <th>13</th>\n",
              "      <th>14</th>\n",
              "      <th>15</th>\n",
              "      <th>16</th>\n",
              "      <th>17</th>\n",
              "      <th>18</th>\n",
              "      <th>19</th>\n",
              "      <th>20</th>\n",
              "      <th>21</th>\n",
              "      <th>22</th>\n",
              "      <th>23</th>\n",
              "      <th>24</th>\n",
              "      <th>25</th>\n",
              "      <th>26</th>\n",
              "      <th>27</th>\n",
              "      <th>28</th>\n",
              "      <th>29</th>\n",
              "      <th>30</th>\n",
              "      <th>31</th>\n",
              "      <th>32</th>\n",
              "      <th>33</th>\n",
              "      <th>34</th>\n",
              "      <th>35</th>\n",
              "      <th>36</th>\n",
              "      <th>37</th>\n",
              "      <th>38</th>\n",
              "      <th>39</th>\n",
              "      <th>40</th>\n",
              "      <th>41</th>\n",
              "      <th>42</th>\n",
              "      <th>43</th>\n",
              "      <th>44</th>\n",
              "      <th>45</th>\n",
              "      <th>46</th>\n",
              "      <th>47</th>\n",
              "      <th>48</th>\n",
              "      <th>49</th>\n",
              "      <th>50</th>\n",
              "      <th>51</th>\n",
              "      <th>52</th>\n",
              "      <th>53</th>\n",
              "      <th>54</th>\n",
              "      <th>55</th>\n",
              "      <th>56</th>\n",
              "      <th>57</th>\n",
              "      <th>58</th>\n",
              "      <th>59</th>\n",
              "    </tr>\n",
              "  </thead>\n",
              "  <tbody>\n",
              "    <tr>\n",
              "      <th>0</th>\n",
              "      <td>0.440894</td>\n",
              "      <td>0.444976</td>\n",
              "      <td>0.433087</td>\n",
              "      <td>0.423779</td>\n",
              "      <td>0.430832</td>\n",
              "      <td>0.434569</td>\n",
              "      <td>0.419226</td>\n",
              "      <td>0.408105</td>\n",
              "      <td>0.413960</td>\n",
              "      <td>0.415046</td>\n",
              "      <td>0.431863</td>\n",
              "      <td>0.411310</td>\n",
              "      <td>0.413572</td>\n",
              "      <td>0.421191</td>\n",
              "      <td>0.439267</td>\n",
              "      <td>0.424714</td>\n",
              "      <td>0.422416</td>\n",
              "      <td>0.423773</td>\n",
              "      <td>0.394479</td>\n",
              "      <td>0.397261</td>\n",
              "      <td>0.421891</td>\n",
              "      <td>0.398091</td>\n",
              "      <td>0.401337</td>\n",
              "      <td>0.415344</td>\n",
              "      <td>0.414348</td>\n",
              "      <td>0.371469</td>\n",
              "      <td>0.383497</td>\n",
              "      <td>0.345303</td>\n",
              "      <td>0.380154</td>\n",
              "      <td>0.411496</td>\n",
              "      <td>0.379814</td>\n",
              "      <td>0.366085</td>\n",
              "      <td>0.363621</td>\n",
              "      <td>0.380355</td>\n",
              "      <td>0.390646</td>\n",
              "      <td>0.324547</td>\n",
              "      <td>0.365787</td>\n",
              "      <td>0.364122</td>\n",
              "      <td>0.334525</td>\n",
              "      <td>0.321141</td>\n",
              "      <td>0.289703</td>\n",
              "      <td>0.246492</td>\n",
              "      <td>0.230427</td>\n",
              "      <td>0.172723</td>\n",
              "      <td>0.161843</td>\n",
              "      <td>0.241435</td>\n",
              "      <td>0.234922</td>\n",
              "      <td>0.172614</td>\n",
              "      <td>0.206727</td>\n",
              "      <td>0.195929</td>\n",
              "      <td>0.231050</td>\n",
              "      <td>0.211350</td>\n",
              "      <td>0.167625</td>\n",
              "      <td>0.182247</td>\n",
              "      <td>0.155703</td>\n",
              "      <td>0.138434</td>\n",
              "      <td>0.214024</td>\n",
              "      <td>0.207721</td>\n",
              "      <td>0.223847</td>\n",
              "      <td>0.236114</td>\n",
              "    </tr>\n",
              "    <tr>\n",
              "      <th>1</th>\n",
              "      <td>0.444976</td>\n",
              "      <td>0.433087</td>\n",
              "      <td>0.423779</td>\n",
              "      <td>0.430832</td>\n",
              "      <td>0.434569</td>\n",
              "      <td>0.419226</td>\n",
              "      <td>0.408105</td>\n",
              "      <td>0.413960</td>\n",
              "      <td>0.415046</td>\n",
              "      <td>0.431863</td>\n",
              "      <td>0.411310</td>\n",
              "      <td>0.413572</td>\n",
              "      <td>0.421191</td>\n",
              "      <td>0.439267</td>\n",
              "      <td>0.424714</td>\n",
              "      <td>0.422416</td>\n",
              "      <td>0.423773</td>\n",
              "      <td>0.394479</td>\n",
              "      <td>0.397261</td>\n",
              "      <td>0.421891</td>\n",
              "      <td>0.398091</td>\n",
              "      <td>0.401337</td>\n",
              "      <td>0.415344</td>\n",
              "      <td>0.414348</td>\n",
              "      <td>0.371469</td>\n",
              "      <td>0.383497</td>\n",
              "      <td>0.345303</td>\n",
              "      <td>0.380154</td>\n",
              "      <td>0.411496</td>\n",
              "      <td>0.379814</td>\n",
              "      <td>0.366085</td>\n",
              "      <td>0.363621</td>\n",
              "      <td>0.380355</td>\n",
              "      <td>0.390646</td>\n",
              "      <td>0.324547</td>\n",
              "      <td>0.365787</td>\n",
              "      <td>0.364122</td>\n",
              "      <td>0.334525</td>\n",
              "      <td>0.321141</td>\n",
              "      <td>0.289703</td>\n",
              "      <td>0.246492</td>\n",
              "      <td>0.230427</td>\n",
              "      <td>0.172723</td>\n",
              "      <td>0.161843</td>\n",
              "      <td>0.241435</td>\n",
              "      <td>0.234922</td>\n",
              "      <td>0.172614</td>\n",
              "      <td>0.206727</td>\n",
              "      <td>0.195929</td>\n",
              "      <td>0.231050</td>\n",
              "      <td>0.211350</td>\n",
              "      <td>0.167625</td>\n",
              "      <td>0.182247</td>\n",
              "      <td>0.155703</td>\n",
              "      <td>0.138434</td>\n",
              "      <td>0.214024</td>\n",
              "      <td>0.207721</td>\n",
              "      <td>0.223847</td>\n",
              "      <td>0.236114</td>\n",
              "      <td>0.235674</td>\n",
              "    </tr>\n",
              "    <tr>\n",
              "      <th>2</th>\n",
              "      <td>0.433087</td>\n",
              "      <td>0.423779</td>\n",
              "      <td>0.430832</td>\n",
              "      <td>0.434569</td>\n",
              "      <td>0.419226</td>\n",
              "      <td>0.408105</td>\n",
              "      <td>0.413960</td>\n",
              "      <td>0.415046</td>\n",
              "      <td>0.431863</td>\n",
              "      <td>0.411310</td>\n",
              "      <td>0.413572</td>\n",
              "      <td>0.421191</td>\n",
              "      <td>0.439267</td>\n",
              "      <td>0.424714</td>\n",
              "      <td>0.422416</td>\n",
              "      <td>0.423773</td>\n",
              "      <td>0.394479</td>\n",
              "      <td>0.397261</td>\n",
              "      <td>0.421891</td>\n",
              "      <td>0.398091</td>\n",
              "      <td>0.401337</td>\n",
              "      <td>0.415344</td>\n",
              "      <td>0.414348</td>\n",
              "      <td>0.371469</td>\n",
              "      <td>0.383497</td>\n",
              "      <td>0.345303</td>\n",
              "      <td>0.380154</td>\n",
              "      <td>0.411496</td>\n",
              "      <td>0.379814</td>\n",
              "      <td>0.366085</td>\n",
              "      <td>0.363621</td>\n",
              "      <td>0.380355</td>\n",
              "      <td>0.390646</td>\n",
              "      <td>0.324547</td>\n",
              "      <td>0.365787</td>\n",
              "      <td>0.364122</td>\n",
              "      <td>0.334525</td>\n",
              "      <td>0.321141</td>\n",
              "      <td>0.289703</td>\n",
              "      <td>0.246492</td>\n",
              "      <td>0.230427</td>\n",
              "      <td>0.172723</td>\n",
              "      <td>0.161843</td>\n",
              "      <td>0.241435</td>\n",
              "      <td>0.234922</td>\n",
              "      <td>0.172614</td>\n",
              "      <td>0.206727</td>\n",
              "      <td>0.195929</td>\n",
              "      <td>0.231050</td>\n",
              "      <td>0.211350</td>\n",
              "      <td>0.167625</td>\n",
              "      <td>0.182247</td>\n",
              "      <td>0.155703</td>\n",
              "      <td>0.138434</td>\n",
              "      <td>0.214024</td>\n",
              "      <td>0.207721</td>\n",
              "      <td>0.223847</td>\n",
              "      <td>0.236114</td>\n",
              "      <td>0.235674</td>\n",
              "      <td>0.261635</td>\n",
              "    </tr>\n",
              "    <tr>\n",
              "      <th>3</th>\n",
              "      <td>0.423779</td>\n",
              "      <td>0.430832</td>\n",
              "      <td>0.434569</td>\n",
              "      <td>0.419226</td>\n",
              "      <td>0.408105</td>\n",
              "      <td>0.413960</td>\n",
              "      <td>0.415046</td>\n",
              "      <td>0.431863</td>\n",
              "      <td>0.411310</td>\n",
              "      <td>0.413572</td>\n",
              "      <td>0.421191</td>\n",
              "      <td>0.439267</td>\n",
              "      <td>0.424714</td>\n",
              "      <td>0.422416</td>\n",
              "      <td>0.423773</td>\n",
              "      <td>0.394479</td>\n",
              "      <td>0.397261</td>\n",
              "      <td>0.421891</td>\n",
              "      <td>0.398091</td>\n",
              "      <td>0.401337</td>\n",
              "      <td>0.415344</td>\n",
              "      <td>0.414348</td>\n",
              "      <td>0.371469</td>\n",
              "      <td>0.383497</td>\n",
              "      <td>0.345303</td>\n",
              "      <td>0.380154</td>\n",
              "      <td>0.411496</td>\n",
              "      <td>0.379814</td>\n",
              "      <td>0.366085</td>\n",
              "      <td>0.363621</td>\n",
              "      <td>0.380355</td>\n",
              "      <td>0.390646</td>\n",
              "      <td>0.324547</td>\n",
              "      <td>0.365787</td>\n",
              "      <td>0.364122</td>\n",
              "      <td>0.334525</td>\n",
              "      <td>0.321141</td>\n",
              "      <td>0.289703</td>\n",
              "      <td>0.246492</td>\n",
              "      <td>0.230427</td>\n",
              "      <td>0.172723</td>\n",
              "      <td>0.161843</td>\n",
              "      <td>0.241435</td>\n",
              "      <td>0.234922</td>\n",
              "      <td>0.172614</td>\n",
              "      <td>0.206727</td>\n",
              "      <td>0.195929</td>\n",
              "      <td>0.231050</td>\n",
              "      <td>0.211350</td>\n",
              "      <td>0.167625</td>\n",
              "      <td>0.182247</td>\n",
              "      <td>0.155703</td>\n",
              "      <td>0.138434</td>\n",
              "      <td>0.214024</td>\n",
              "      <td>0.207721</td>\n",
              "      <td>0.223847</td>\n",
              "      <td>0.236114</td>\n",
              "      <td>0.235674</td>\n",
              "      <td>0.261635</td>\n",
              "      <td>0.220327</td>\n",
              "    </tr>\n",
              "    <tr>\n",
              "      <th>4</th>\n",
              "      <td>0.430832</td>\n",
              "      <td>0.434569</td>\n",
              "      <td>0.419226</td>\n",
              "      <td>0.408105</td>\n",
              "      <td>0.413960</td>\n",
              "      <td>0.415046</td>\n",
              "      <td>0.431863</td>\n",
              "      <td>0.411310</td>\n",
              "      <td>0.413572</td>\n",
              "      <td>0.421191</td>\n",
              "      <td>0.439267</td>\n",
              "      <td>0.424714</td>\n",
              "      <td>0.422416</td>\n",
              "      <td>0.423773</td>\n",
              "      <td>0.394479</td>\n",
              "      <td>0.397261</td>\n",
              "      <td>0.421891</td>\n",
              "      <td>0.398091</td>\n",
              "      <td>0.401337</td>\n",
              "      <td>0.415344</td>\n",
              "      <td>0.414348</td>\n",
              "      <td>0.371469</td>\n",
              "      <td>0.383497</td>\n",
              "      <td>0.345303</td>\n",
              "      <td>0.380154</td>\n",
              "      <td>0.411496</td>\n",
              "      <td>0.379814</td>\n",
              "      <td>0.366085</td>\n",
              "      <td>0.363621</td>\n",
              "      <td>0.380355</td>\n",
              "      <td>0.390646</td>\n",
              "      <td>0.324547</td>\n",
              "      <td>0.365787</td>\n",
              "      <td>0.364122</td>\n",
              "      <td>0.334525</td>\n",
              "      <td>0.321141</td>\n",
              "      <td>0.289703</td>\n",
              "      <td>0.246492</td>\n",
              "      <td>0.230427</td>\n",
              "      <td>0.172723</td>\n",
              "      <td>0.161843</td>\n",
              "      <td>0.241435</td>\n",
              "      <td>0.234922</td>\n",
              "      <td>0.172614</td>\n",
              "      <td>0.206727</td>\n",
              "      <td>0.195929</td>\n",
              "      <td>0.231050</td>\n",
              "      <td>0.211350</td>\n",
              "      <td>0.167625</td>\n",
              "      <td>0.182247</td>\n",
              "      <td>0.155703</td>\n",
              "      <td>0.138434</td>\n",
              "      <td>0.214024</td>\n",
              "      <td>0.207721</td>\n",
              "      <td>0.223847</td>\n",
              "      <td>0.236114</td>\n",
              "      <td>0.235674</td>\n",
              "      <td>0.261635</td>\n",
              "      <td>0.220327</td>\n",
              "      <td>0.182633</td>\n",
              "    </tr>\n",
              "  </tbody>\n",
              "</table>\n",
              "</div>"
            ],
            "text/plain": [
              "         0         1         2   ...        57        58        59\n",
              "0  0.440894  0.444976  0.433087  ...  0.207721  0.223847  0.236114\n",
              "1  0.444976  0.433087  0.423779  ...  0.223847  0.236114  0.235674\n",
              "2  0.433087  0.423779  0.430832  ...  0.236114  0.235674  0.261635\n",
              "3  0.423779  0.430832  0.434569  ...  0.235674  0.261635  0.220327\n",
              "4  0.430832  0.434569  0.419226  ...  0.261635  0.220327  0.182633\n",
              "\n",
              "[5 rows x 60 columns]"
            ]
          },
          "metadata": {
            "tags": []
          },
          "execution_count": 12
        }
      ]
    },
    {
      "cell_type": "code",
      "metadata": {
        "colab_type": "code",
        "id": "ifFNKZpPkjBt",
        "outputId": "b40523df-fa71-4a57-c8c5-8a160bfd1385",
        "slideshow": {
          "slide_type": "subslide"
        },
        "colab": {
          "base_uri": "https://localhost:8080/",
          "height": 202
        }
      },
      "source": [
        "#Output for each dataset(Y)\n",
        "pd.DataFrame(close_Y_train_gen.reshape(1631,1)).head()"
      ],
      "execution_count": 13,
      "outputs": [
        {
          "output_type": "execute_result",
          "data": {
            "text/html": [
              "<div>\n",
              "<style scoped>\n",
              "    .dataframe tbody tr th:only-of-type {\n",
              "        vertical-align: middle;\n",
              "    }\n",
              "\n",
              "    .dataframe tbody tr th {\n",
              "        vertical-align: top;\n",
              "    }\n",
              "\n",
              "    .dataframe thead th {\n",
              "        text-align: right;\n",
              "    }\n",
              "</style>\n",
              "<table border=\"1\" class=\"dataframe\">\n",
              "  <thead>\n",
              "    <tr style=\"text-align: right;\">\n",
              "      <th></th>\n",
              "      <th>0</th>\n",
              "    </tr>\n",
              "  </thead>\n",
              "  <tbody>\n",
              "    <tr>\n",
              "      <th>0</th>\n",
              "      <td>0.235674</td>\n",
              "    </tr>\n",
              "    <tr>\n",
              "      <th>1</th>\n",
              "      <td>0.261635</td>\n",
              "    </tr>\n",
              "    <tr>\n",
              "      <th>2</th>\n",
              "      <td>0.220327</td>\n",
              "    </tr>\n",
              "    <tr>\n",
              "      <th>3</th>\n",
              "      <td>0.182633</td>\n",
              "    </tr>\n",
              "    <tr>\n",
              "      <th>4</th>\n",
              "      <td>0.203714</td>\n",
              "    </tr>\n",
              "  </tbody>\n",
              "</table>\n",
              "</div>"
            ],
            "text/plain": [
              "          0\n",
              "0  0.235674\n",
              "1  0.261635\n",
              "2  0.220327\n",
              "3  0.182633\n",
              "4  0.203714"
            ]
          },
          "metadata": {
            "tags": []
          },
          "execution_count": 13
        }
      ]
    },
    {
      "cell_type": "markdown",
      "metadata": {
        "colab_type": "text",
        "id": "IwM8DF9-k6sk",
        "slideshow": {
          "slide_type": "slide"
        }
      },
      "source": [
        "## **Creating the LSTM models for prediciton of different feature.**"
      ]
    },
    {
      "cell_type": "markdown",
      "metadata": {
        "colab_type": "text",
        "id": "ksFX1WPifYd2",
        "slideshow": {
          "slide_type": "slide"
        }
      },
      "source": [
        "<img src=\"https://drive.google.com/uc?id=1LjvDxF_XYOP9R6OszSDTKGk4Gos2k79o\">"
      ]
    },
    {
      "cell_type": "markdown",
      "metadata": {
        "colab_type": "text",
        "id": "X28_Iv4LfYPG"
      },
      "source": [
        ""
      ]
    },
    {
      "cell_type": "code",
      "metadata": {
        "colab_type": "code",
        "id": "vOW5zoJwkdS2",
        "outputId": "4edfb52f-7fa9-44e5-c501-c41536cf8cbc",
        "slideshow": {
          "slide_type": "skip"
        },
        "colab": {
          "base_uri": "https://localhost:8080/",
          "height": 35
        }
      },
      "source": [
        "from keras.models import Sequential\n",
        "from keras.layers import Dense\n",
        "from keras.layers import LSTM\n",
        "from keras.layers import Dropout\n",
        "from keras.callbacks import Callback, ModelCheckpoint"
      ],
      "execution_count": 14,
      "outputs": [
        {
          "output_type": "stream",
          "text": [
            "Using TensorFlow backend.\n"
          ],
          "name": "stderr"
        }
      ]
    },
    {
      "cell_type": "code",
      "metadata": {
        "colab_type": "code",
        "id": "-9k41OMOko5B",
        "outputId": "3ead3f4e-c22d-49c8-d816-0667d7d7ca8e",
        "slideshow": {
          "slide_type": "slide"
        },
        "colab": {
          "base_uri": "https://localhost:8080/",
          "height": 245
        }
      },
      "source": [
        "#Model for prediction of open value for next day using past 60 days data.\n",
        "open_model=Sequential()\n",
        "open_model.add(LSTM(units=50,return_sequences=True, input_shape=(open_X_train_gen.shape[1],1)))\n",
        "#open_model.add(Activation(\"relu\"))\n",
        "open_model.add(Dropout(0.2))\n",
        "open_model.add(LSTM(units=50,return_sequences=True))\n",
        "#open_model.add(Activation(\"relu\"))\n",
        "open_model.add(Dropout(0.2))\n",
        "open_model.add(LSTM(units=50,return_sequences=True))\n",
        "#open_model.add(Activation(\"relu\"))\n",
        "open_model.add(Dropout(0.2))\n",
        "open_model.add(LSTM(units=50))\n",
        "open_model.add(Dense(units=1))"
      ],
      "execution_count": 15,
      "outputs": [
        {
          "output_type": "stream",
          "text": [
            "WARNING: Logging before flag parsing goes to stderr.\n",
            "W0711 11:57:56.620976 140620172404608 deprecation_wrapper.py:119] From /usr/local/lib/python3.6/dist-packages/keras/backend/tensorflow_backend.py:74: The name tf.get_default_graph is deprecated. Please use tf.compat.v1.get_default_graph instead.\n",
            "\n",
            "W0711 11:57:56.667188 140620172404608 deprecation_wrapper.py:119] From /usr/local/lib/python3.6/dist-packages/keras/backend/tensorflow_backend.py:517: The name tf.placeholder is deprecated. Please use tf.compat.v1.placeholder instead.\n",
            "\n",
            "W0711 11:57:56.673633 140620172404608 deprecation_wrapper.py:119] From /usr/local/lib/python3.6/dist-packages/keras/backend/tensorflow_backend.py:4138: The name tf.random_uniform is deprecated. Please use tf.random.uniform instead.\n",
            "\n",
            "W0711 11:57:56.860026 140620172404608 deprecation_wrapper.py:119] From /usr/local/lib/python3.6/dist-packages/keras/backend/tensorflow_backend.py:133: The name tf.placeholder_with_default is deprecated. Please use tf.compat.v1.placeholder_with_default instead.\n",
            "\n",
            "W0711 11:57:56.868411 140620172404608 deprecation.py:506] From /usr/local/lib/python3.6/dist-packages/keras/backend/tensorflow_backend.py:3445: calling dropout (from tensorflow.python.ops.nn_ops) with keep_prob is deprecated and will be removed in a future version.\n",
            "Instructions for updating:\n",
            "Please use `rate` instead of `keep_prob`. Rate should be set to `rate = 1 - keep_prob`.\n"
          ],
          "name": "stderr"
        }
      ]
    },
    {
      "cell_type": "code",
      "metadata": {
        "colab_type": "code",
        "id": "YibtPCVeld3L",
        "outputId": "e36b7880-dc57-4f70-c7a4-36617b17a356",
        "slideshow": {
          "slide_type": "skip"
        },
        "colab": {
          "base_uri": "https://localhost:8080/",
          "height": 35
        }
      },
      "source": [
        "open_X_train_gen.shape,open_Y_train_gen.shape"
      ],
      "execution_count": 16,
      "outputs": [
        {
          "output_type": "execute_result",
          "data": {
            "text/plain": [
              "((1631, 60, 1), (1631, 1))"
            ]
          },
          "metadata": {
            "tags": []
          },
          "execution_count": 16
        }
      ]
    },
    {
      "cell_type": "code",
      "metadata": {
        "colab_type": "code",
        "id": "8wzScoh_lzVx",
        "outputId": "c2598e40-701c-46b3-f437-7dcff20715a5",
        "slideshow": {
          "slide_type": "slide"
        },
        "colab": {
          "base_uri": "https://localhost:8080/",
          "height": 1000
        }
      },
      "source": [
        "#compiling the RNN(LSTM)FOR OPENing\n",
        "open_model.compile(optimizer='adam',loss='mean_squared_error')\n",
        "history1=open_model.fit(open_X_train_gen,open_Y_train_gen,epochs=40,batch_size=32,validation_split=0.2,verbose=2)"
      ],
      "execution_count": 17,
      "outputs": [
        {
          "output_type": "stream",
          "text": [
            "W0711 11:58:03.325769 140620172404608 deprecation_wrapper.py:119] From /usr/local/lib/python3.6/dist-packages/keras/optimizers.py:790: The name tf.train.Optimizer is deprecated. Please use tf.compat.v1.train.Optimizer instead.\n",
            "\n",
            "W0711 11:58:03.704350 140620172404608 deprecation.py:323] From /usr/local/lib/python3.6/dist-packages/tensorflow/python/ops/math_grad.py:1250: add_dispatch_support.<locals>.wrapper (from tensorflow.python.ops.array_ops) is deprecated and will be removed in a future version.\n",
            "Instructions for updating:\n",
            "Use tf.where in 2.0, which has the same broadcast rule as np.where\n",
            "W0711 11:58:05.821483 140620172404608 deprecation_wrapper.py:119] From /usr/local/lib/python3.6/dist-packages/keras/backend/tensorflow_backend.py:986: The name tf.assign_add is deprecated. Please use tf.compat.v1.assign_add instead.\n",
            "\n"
          ],
          "name": "stderr"
        },
        {
          "output_type": "stream",
          "text": [
            "Train on 1304 samples, validate on 327 samples\n",
            "Epoch 1/40\n",
            " - 19s - loss: 0.0282 - val_loss: 0.0029\n",
            "Epoch 2/40\n",
            " - 14s - loss: 0.0017 - val_loss: 7.5810e-04\n",
            "Epoch 3/40\n",
            " - 14s - loss: 0.0014 - val_loss: 8.2065e-04\n",
            "Epoch 4/40\n",
            " - 14s - loss: 0.0014 - val_loss: 0.0012\n",
            "Epoch 5/40\n",
            " - 14s - loss: 0.0013 - val_loss: 0.0011\n",
            "Epoch 6/40\n",
            " - 14s - loss: 0.0013 - val_loss: 9.0494e-04\n",
            "Epoch 7/40\n",
            " - 14s - loss: 0.0012 - val_loss: 0.0010\n",
            "Epoch 8/40\n",
            " - 14s - loss: 0.0014 - val_loss: 0.0041\n",
            "Epoch 9/40\n",
            " - 14s - loss: 0.0012 - val_loss: 7.4187e-04\n",
            "Epoch 10/40\n",
            " - 14s - loss: 0.0011 - val_loss: 7.3274e-04\n",
            "Epoch 11/40\n",
            " - 14s - loss: 0.0011 - val_loss: 8.2280e-04\n",
            "Epoch 12/40\n",
            " - 14s - loss: 0.0012 - val_loss: 0.0011\n",
            "Epoch 13/40\n",
            " - 14s - loss: 0.0011 - val_loss: 0.0017\n",
            "Epoch 14/40\n",
            " - 14s - loss: 0.0011 - val_loss: 8.1276e-04\n",
            "Epoch 15/40\n",
            " - 14s - loss: 0.0011 - val_loss: 9.2084e-04\n",
            "Epoch 16/40\n",
            " - 14s - loss: 0.0012 - val_loss: 7.2220e-04\n",
            "Epoch 17/40\n",
            " - 14s - loss: 9.6647e-04 - val_loss: 6.9369e-04\n",
            "Epoch 18/40\n",
            " - 14s - loss: 0.0010 - val_loss: 8.7788e-04\n",
            "Epoch 19/40\n",
            " - 14s - loss: 9.6859e-04 - val_loss: 0.0010\n",
            "Epoch 20/40\n",
            " - 14s - loss: 9.4839e-04 - val_loss: 6.6359e-04\n",
            "Epoch 21/40\n",
            " - 14s - loss: 8.8672e-04 - val_loss: 0.0026\n",
            "Epoch 22/40\n",
            " - 14s - loss: 8.8834e-04 - val_loss: 7.0632e-04\n",
            "Epoch 23/40\n",
            " - 14s - loss: 9.3318e-04 - val_loss: 0.0010\n",
            "Epoch 24/40\n",
            " - 14s - loss: 9.4626e-04 - val_loss: 6.3938e-04\n",
            "Epoch 25/40\n",
            " - 14s - loss: 8.2855e-04 - val_loss: 7.2144e-04\n",
            "Epoch 26/40\n",
            " - 14s - loss: 7.8856e-04 - val_loss: 8.7349e-04\n",
            "Epoch 27/40\n",
            " - 14s - loss: 9.2081e-04 - val_loss: 6.1005e-04\n",
            "Epoch 28/40\n",
            " - 14s - loss: 8.1480e-04 - val_loss: 7.7400e-04\n",
            "Epoch 29/40\n",
            " - 14s - loss: 7.6647e-04 - val_loss: 7.7290e-04\n",
            "Epoch 30/40\n",
            " - 14s - loss: 7.7706e-04 - val_loss: 5.9017e-04\n",
            "Epoch 31/40\n",
            " - 14s - loss: 7.7415e-04 - val_loss: 8.9030e-04\n",
            "Epoch 32/40\n",
            " - 14s - loss: 8.7774e-04 - val_loss: 5.4401e-04\n",
            "Epoch 33/40\n",
            " - 14s - loss: 7.2774e-04 - val_loss: 8.4621e-04\n",
            "Epoch 34/40\n",
            " - 14s - loss: 7.3369e-04 - val_loss: 0.0010\n",
            "Epoch 35/40\n",
            " - 14s - loss: 7.0648e-04 - val_loss: 5.2193e-04\n",
            "Epoch 36/40\n",
            " - 14s - loss: 7.0025e-04 - val_loss: 0.0012\n",
            "Epoch 37/40\n",
            " - 14s - loss: 6.7253e-04 - val_loss: 5.3440e-04\n",
            "Epoch 38/40\n",
            " - 14s - loss: 7.3620e-04 - val_loss: 8.4904e-04\n",
            "Epoch 39/40\n",
            " - 14s - loss: 6.1195e-04 - val_loss: 7.0891e-04\n",
            "Epoch 40/40\n",
            " - 14s - loss: 6.5111e-04 - val_loss: 4.8447e-04\n"
          ],
          "name": "stdout"
        }
      ]
    },
    {
      "cell_type": "code",
      "metadata": {
        "colab_type": "code",
        "id": "PBvK1Wg1l5Sb",
        "slideshow": {
          "slide_type": "slide"
        },
        "colab": {}
      },
      "source": [
        "#Model for prediction of close value for next day using past 60 days data.\n",
        "close_model = Sequential()\n",
        "close_model.add(LSTM(units=50,return_sequences=True, input_shape=(close_X_train_gen.shape[1],1)))\n",
        "close_model.add(Dropout(0.2))\n",
        "close_model.add(LSTM(units=50,return_sequences=True))\n",
        "close_model.add(Dropout(0.2))\n",
        "close_model.add(LSTM(units=50,return_sequences=True))\n",
        "close_model.add(Dropout(0.2))\n",
        "close_model.add(LSTM(units=50))\n",
        "close_model.add(Dense(units=1))"
      ],
      "execution_count": 0,
      "outputs": []
    },
    {
      "cell_type": "code",
      "metadata": {
        "colab_type": "code",
        "id": "k4qex4uYl-qZ",
        "outputId": "c7a97e15-8071-4462-aeaf-2a7455bb1063",
        "slideshow": {
          "slide_type": "subslide"
        },
        "colab": {
          "base_uri": "https://localhost:8080/",
          "height": 1000
        }
      },
      "source": [
        "#compiling the RNN(LSTM)FOR CLOSEing\n",
        "close_model.compile(optimizer='adam',loss='mean_squared_error')\n",
        "history2=close_model.fit(close_X_train_gen,close_Y_train_gen,epochs=40,batch_size=20,validation_split=0.2,verbose=2)"
      ],
      "execution_count": 19,
      "outputs": [
        {
          "output_type": "stream",
          "text": [
            "Train on 1304 samples, validate on 327 samples\n",
            "Epoch 1/40\n",
            " - 25s - loss: 0.0204 - val_loss: 7.7599e-04\n",
            "Epoch 2/40\n",
            " - 22s - loss: 0.0015 - val_loss: 0.0016\n",
            "Epoch 3/40\n",
            " - 23s - loss: 0.0013 - val_loss: 7.5387e-04\n",
            "Epoch 4/40\n",
            " - 23s - loss: 0.0015 - val_loss: 0.0018\n",
            "Epoch 5/40\n",
            " - 23s - loss: 0.0014 - val_loss: 9.9713e-04\n",
            "Epoch 6/40\n",
            " - 22s - loss: 0.0012 - val_loss: 7.2909e-04\n",
            "Epoch 7/40\n",
            " - 22s - loss: 0.0012 - val_loss: 7.5226e-04\n",
            "Epoch 8/40\n",
            " - 23s - loss: 0.0014 - val_loss: 0.0030\n",
            "Epoch 9/40\n",
            " - 22s - loss: 0.0013 - val_loss: 0.0020\n",
            "Epoch 10/40\n",
            " - 22s - loss: 0.0010 - val_loss: 0.0035\n",
            "Epoch 11/40\n",
            " - 22s - loss: 0.0011 - val_loss: 6.7429e-04\n",
            "Epoch 12/40\n",
            " - 23s - loss: 9.9283e-04 - val_loss: 6.6547e-04\n",
            "Epoch 13/40\n",
            " - 22s - loss: 0.0011 - val_loss: 0.0012\n",
            "Epoch 14/40\n",
            " - 22s - loss: 9.3144e-04 - val_loss: 0.0017\n",
            "Epoch 15/40\n",
            " - 22s - loss: 0.0011 - val_loss: 0.0028\n",
            "Epoch 16/40\n",
            " - 22s - loss: 0.0011 - val_loss: 0.0012\n",
            "Epoch 17/40\n",
            " - 22s - loss: 8.5215e-04 - val_loss: 6.4087e-04\n",
            "Epoch 18/40\n",
            " - 23s - loss: 9.6007e-04 - val_loss: 0.0015\n",
            "Epoch 19/40\n",
            " - 23s - loss: 0.0010 - val_loss: 0.0010\n",
            "Epoch 20/40\n",
            " - 22s - loss: 7.6713e-04 - val_loss: 7.6906e-04\n",
            "Epoch 21/40\n",
            " - 22s - loss: 7.6377e-04 - val_loss: 9.6983e-04\n",
            "Epoch 22/40\n",
            " - 23s - loss: 8.7295e-04 - val_loss: 5.6966e-04\n",
            "Epoch 23/40\n",
            " - 22s - loss: 7.0552e-04 - val_loss: 7.1076e-04\n",
            "Epoch 24/40\n",
            " - 23s - loss: 7.4873e-04 - val_loss: 5.1338e-04\n",
            "Epoch 25/40\n",
            " - 22s - loss: 7.2472e-04 - val_loss: 7.8352e-04\n",
            "Epoch 26/40\n",
            " - 23s - loss: 7.0025e-04 - val_loss: 0.0013\n",
            "Epoch 27/40\n",
            " - 23s - loss: 9.1178e-04 - val_loss: 7.4905e-04\n",
            "Epoch 28/40\n",
            " - 22s - loss: 6.4055e-04 - val_loss: 0.0013\n",
            "Epoch 29/40\n",
            " - 23s - loss: 7.1131e-04 - val_loss: 9.3602e-04\n",
            "Epoch 30/40\n",
            " - 23s - loss: 6.7784e-04 - val_loss: 4.2339e-04\n",
            "Epoch 31/40\n",
            " - 22s - loss: 6.0149e-04 - val_loss: 4.4422e-04\n",
            "Epoch 32/40\n",
            " - 23s - loss: 5.8050e-04 - val_loss: 4.9641e-04\n",
            "Epoch 33/40\n",
            " - 23s - loss: 6.4837e-04 - val_loss: 0.0019\n",
            "Epoch 34/40\n",
            " - 22s - loss: 5.9509e-04 - val_loss: 3.7743e-04\n",
            "Epoch 35/40\n",
            " - 23s - loss: 5.7006e-04 - val_loss: 3.7838e-04\n",
            "Epoch 36/40\n",
            " - 23s - loss: 5.0153e-04 - val_loss: 8.2548e-04\n",
            "Epoch 37/40\n",
            " - 23s - loss: 6.0250e-04 - val_loss: 6.2003e-04\n",
            "Epoch 38/40\n",
            " - 22s - loss: 4.9900e-04 - val_loss: 3.5889e-04\n",
            "Epoch 39/40\n",
            " - 22s - loss: 5.1274e-04 - val_loss: 4.7773e-04\n",
            "Epoch 40/40\n",
            " - 22s - loss: 5.2833e-04 - val_loss: 4.2476e-04\n"
          ],
          "name": "stdout"
        }
      ]
    },
    {
      "cell_type": "code",
      "metadata": {
        "colab_type": "code",
        "id": "OxcryPWNmLkp",
        "slideshow": {
          "slide_type": "slide"
        },
        "colab": {}
      },
      "source": [
        "#Model for prediction of adjusted value for next day using past 60 days data.\n",
        "adj_model = Sequential()\n",
        "adj_model.add(LSTM(units=50,return_sequences=True, input_shape=(adj_X_train_gen.shape[1],1)))\n",
        "#adj_model.add(Activation(\"relu\"))\n",
        "adj_model.add(Dropout(0.2))\n",
        "adj_model.add(LSTM(units=50,return_sequences=True))\n",
        "adj_model.add(Dropout(0.2))\n",
        "adj_model.add(LSTM(units=50,return_sequences=True))\n",
        "adj_model.add(Dropout(0.2))\n",
        "adj_model.add(LSTM(units=50))\n",
        "adj_model.add(Dense(units=1))"
      ],
      "execution_count": 0,
      "outputs": []
    },
    {
      "cell_type": "markdown",
      "metadata": {
        "colab_type": "text",
        "id": "aHmPUUc-n_3R",
        "slideshow": {
          "slide_type": "slide"
        }
      },
      "source": [
        "## **Visualizing the test and train data**"
      ]
    },
    {
      "cell_type": "code",
      "metadata": {
        "colab_type": "code",
        "id": "08E9o34EmcLN",
        "outputId": "1ff72739-8f84-4f81-86e3-a6d081485f08",
        "slideshow": {
          "slide_type": "slide"
        },
        "colab": {
          "base_uri": "https://localhost:8080/",
          "height": 287
        }
      },
      "source": [
        "#Visualizing the different loss and validation loss for the open data\n",
        "from matplotlib import pyplot\n",
        "pyplot.plot(history1.history['val_loss'], label='validate')\n",
        "pyplot.plot(history1.history['loss'], label='train')\n",
        "pyplot.legend()"
      ],
      "execution_count": 47,
      "outputs": [
        {
          "output_type": "execute_result",
          "data": {
            "text/plain": [
              "<matplotlib.legend.Legend at 0x7fe3edb24630>"
            ]
          },
          "metadata": {
            "tags": []
          },
          "execution_count": 47
        },
        {
          "output_type": "display_data",
          "data": {
            "image/png": "[encoded data removed]",
            "text/plain": [
              "<Figure size 432x288 with 1 Axes>"
            ]
          },
          "metadata": {
            "tags": []
          }
        }
      ]
    },
    {
      "cell_type": "code",
      "metadata": {
        "colab_type": "code",
        "id": "K_1vM3cpmrEr",
        "slideshow": {
          "slide_type": "slide"
        },
        "colab": {}
      },
      "source": [
        "#Predicting the corresponding values \n",
        "open_Y_pred=open_model.predict(open_X_test_gen)\n",
        "close_Y_pred=close_model.predict(close_X_test_gen)\n",
        "#volume_Y_pred=volume_model.predict(volume_X_test_gen)\n",
        "adj_Y_pred=adj_model.predict(adj_X_test_gen)"
      ],
      "execution_count": 0,
      "outputs": []
    },
    {
      "cell_type": "code",
      "metadata": {
        "colab_type": "code",
        "id": "UnRheyhcn5ym",
        "outputId": "dd69a62d-e84c-4058-b051-b90223ca3ca3",
        "slideshow": {
          "slide_type": "slide"
        },
        "colab": {
          "base_uri": "https://localhost:8080/",
          "height": 299
        }
      },
      "source": [
        "#Predicted vs Actual Close Price\n",
        "plt.plot(close_Y_pred,label=\"prdicted\")\n",
        "plt.plot(close_Y_test_gen,label=\"actual\")\n",
        "plt.title(\"Close Price\")\n",
        "# plt.xlim(50,75)\n",
        "plt.legend()"
      ],
      "execution_count": 49,
      "outputs": [
        {
          "output_type": "execute_result",
          "data": {
            "text/plain": [
              "<matplotlib.legend.Legend at 0x7fe3edafc978>"
            ]
          },
          "metadata": {
            "tags": []
          },
          "execution_count": 49
        },
        {
          "output_type": "display_data",
          "data": {
            "image/png": "[encoded data removed]",
            "text/plain": [
              "<Figure size 432x288 with 1 Axes>"
            ]
          },
          "metadata": {
            "tags": []
          }
        }
      ]
    },
    {
      "cell_type": "markdown",
      "metadata": {
        "colab_type": "text",
        "id": "KjdUX0Aio-0U",
        "slideshow": {
          "slide_type": "slide"
        }
      },
      "source": [
        "## **ANN Model**"
      ]
    },
    {
      "cell_type": "markdown",
      "metadata": {
        "colab_type": "text",
        "id": "da4HiM_jgI46",
        "slideshow": {
          "slide_type": "slide"
        }
      },
      "source": [
        "<img src = \"https://drive.google.com/uc?id=1BARwil5waakVARRs4EQ6gH1-eRPZtdI9\">"
      ]
    },
    {
      "cell_type": "code",
      "metadata": {
        "colab_type": "code",
        "id": "J4E6NM9SpBOJ",
        "outputId": "16d94cd9-d6d1-4907-b613-ef508704e1d3",
        "slideshow": {
          "slide_type": "skip"
        },
        "colab": {
          "resources": {
            "http://localhost:8080/nbextensions/google.colab/files.js": {
              "data": "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",
              "ok": true,
              "headers": [
                [
                  "content-type",
                  "application/javascript"
                ]
              ],
              "status": 200,
              "status_text": ""
            }
          },
          "base_uri": "https://localhost:8080/",
          "height": 75
        }
      },
      "source": [
        "from google.colab import files\n",
        "setiment_file=files.upload()"
      ],
      "execution_count": 50,
      "outputs": [
        {
          "output_type": "display_data",
          "data": {
            "text/html": [
              "\n",
              "     <input type=\"file\" id=\"files-8979a05b-9090-4f8d-aa70-f35b9d841c6a\" name=\"files[]\" multiple disabled />\n",
              "     <output id=\"result-8979a05b-9090-4f8d-aa70-f35b9d841c6a\">\n",
              "      Upload widget is only available when the cell has been executed in the\n",
              "      current browser session. Please rerun this cell to enable.\n",
              "      </output>\n",
              "      <script src=\"/nbextensions/google.colab/files.js\"></script> "
            ],
            "text/plain": [
              "<IPython.core.display.HTML object>"
            ]
          },
          "metadata": {
            "tags": []
          }
        },
        {
          "output_type": "stream",
          "text": [
            "Saving Polarity Score.csv to Polarity Score (1).csv\n"
          ],
          "name": "stdout"
        }
      ]
    },
    {
      "cell_type": "code",
      "metadata": {
        "colab_type": "code",
        "id": "2PSNFtiWpG7W",
        "outputId": "763ad24a-9af1-462b-c065-18ebc3872194",
        "slideshow": {
          "slide_type": "slide"
        },
        "colab": {
          "base_uri": "https://localhost:8080/",
          "height": 202
        }
      },
      "source": [
        "#Polarity Score\n",
        "senti=pd.read_csv(\"Polarity Score.csv\")\n",
        "senti.head()"
      ],
      "execution_count": 148,
      "outputs": [
        {
          "output_type": "execute_result",
          "data": {
            "text/html": [
              "<div>\n",
              "<style scoped>\n",
              "    .dataframe tbody tr th:only-of-type {\n",
              "        vertical-align: middle;\n",
              "    }\n",
              "\n",
              "    .dataframe tbody tr th {\n",
              "        vertical-align: top;\n",
              "    }\n",
              "\n",
              "    .dataframe thead th {\n",
              "        text-align: right;\n",
              "    }\n",
              "</style>\n",
              "<table border=\"1\" class=\"dataframe\">\n",
              "  <thead>\n",
              "    <tr style=\"text-align: right;\">\n",
              "      <th></th>\n",
              "      <th>Unnamed: 0</th>\n",
              "      <th>Date</th>\n",
              "      <th>Polarity Score(Scaled)</th>\n",
              "      <th>Polarity Score(Unscaled)</th>\n",
              "      <th>Label</th>\n",
              "    </tr>\n",
              "  </thead>\n",
              "  <tbody>\n",
              "    <tr>\n",
              "      <th>0</th>\n",
              "      <td>0</td>\n",
              "      <td>2008-08-08</td>\n",
              "      <td>-0.852308</td>\n",
              "      <td>-0.733084</td>\n",
              "      <td>0</td>\n",
              "    </tr>\n",
              "    <tr>\n",
              "      <th>1</th>\n",
              "      <td>1</td>\n",
              "      <td>2008-08-11</td>\n",
              "      <td>0.964776</td>\n",
              "      <td>0.996928</td>\n",
              "      <td>1</td>\n",
              "    </tr>\n",
              "    <tr>\n",
              "      <th>2</th>\n",
              "      <td>2</td>\n",
              "      <td>2008-08-12</td>\n",
              "      <td>-1.056889</td>\n",
              "      <td>-0.927862</td>\n",
              "      <td>0</td>\n",
              "    </tr>\n",
              "    <tr>\n",
              "      <th>3</th>\n",
              "      <td>3</td>\n",
              "      <td>2008-08-13</td>\n",
              "      <td>-0.854806</td>\n",
              "      <td>-0.735463</td>\n",
              "      <td>0</td>\n",
              "    </tr>\n",
              "    <tr>\n",
              "      <th>4</th>\n",
              "      <td>4</td>\n",
              "      <td>2008-08-14</td>\n",
              "      <td>0.967997</td>\n",
              "      <td>0.999994</td>\n",
              "      <td>1</td>\n",
              "    </tr>\n",
              "  </tbody>\n",
              "</table>\n",
              "</div>"
            ],
            "text/plain": [
              "   Unnamed: 0        Date  ...  Polarity Score(Unscaled)  Label\n",
              "0           0  2008-08-08  ...                 -0.733084      0\n",
              "1           1  2008-08-11  ...                  0.996928      1\n",
              "2           2  2008-08-12  ...                 -0.927862      0\n",
              "3           3  2008-08-13  ...                 -0.735463      0\n",
              "4           4  2008-08-14  ...                  0.999994      1\n",
              "\n",
              "[5 rows x 5 columns]"
            ]
          },
          "metadata": {
            "tags": []
          },
          "execution_count": 148
        }
      ]
    },
    {
      "cell_type": "code",
      "metadata": {
        "colab_type": "code",
        "id": "o1fqr508pVow",
        "outputId": "5e18a8ae-a8a6-4521-be50-170321ef068d",
        "slideshow": {
          "slide_type": "subslide"
        },
        "colab": {
          "base_uri": "https://localhost:8080/",
          "height": 202
        }
      },
      "source": [
        "data_ann_train=(senti.iloc[(train_size+ts):(senti.shape[0]-25),2:3].values)*7\n",
        "data_ann_train=np.hstack((data_ann_train,open_Y_pred[:data_ann_train.shape[0],:],close_Y_pred[:data_ann_train.shape[0],:]))\n",
        "pd.DataFrame(data_ann_train,columns=[\"s.polarity\",\"open_Y_pred\",\"close_Y_pred\"]).head()"
      ],
      "execution_count": 149,
      "outputs": [
        {
          "output_type": "execute_result",
          "data": {
            "text/html": [
              "<div>\n",
              "<style scoped>\n",
              "    .dataframe tbody tr th:only-of-type {\n",
              "        vertical-align: middle;\n",
              "    }\n",
              "\n",
              "    .dataframe tbody tr th {\n",
              "        vertical-align: top;\n",
              "    }\n",
              "\n",
              "    .dataframe thead th {\n",
              "        text-align: right;\n",
              "    }\n",
              "</style>\n",
              "<table border=\"1\" class=\"dataframe\">\n",
              "  <thead>\n",
              "    <tr style=\"text-align: right;\">\n",
              "      <th></th>\n",
              "      <th>s.polarity</th>\n",
              "      <th>open_Y_pred</th>\n",
              "      <th>close_Y_pred</th>\n",
              "    </tr>\n",
              "  </thead>\n",
              "  <tbody>\n",
              "    <tr>\n",
              "      <th>0</th>\n",
              "      <td>-7.447710</td>\n",
              "      <td>0.974291</td>\n",
              "      <td>0.962259</td>\n",
              "    </tr>\n",
              "    <tr>\n",
              "      <th>1</th>\n",
              "      <td>-7.923763</td>\n",
              "      <td>0.975928</td>\n",
              "      <td>0.955808</td>\n",
              "    </tr>\n",
              "    <tr>\n",
              "      <th>2</th>\n",
              "      <td>6.562912</td>\n",
              "      <td>0.975769</td>\n",
              "      <td>0.947229</td>\n",
              "    </tr>\n",
              "    <tr>\n",
              "      <th>3</th>\n",
              "      <td>5.583990</td>\n",
              "      <td>0.973657</td>\n",
              "      <td>0.938503</td>\n",
              "    </tr>\n",
              "    <tr>\n",
              "      <th>4</th>\n",
              "      <td>-7.858744</td>\n",
              "      <td>0.970095</td>\n",
              "      <td>0.931860</td>\n",
              "    </tr>\n",
              "  </tbody>\n",
              "</table>\n",
              "</div>"
            ],
            "text/plain": [
              "   s.polarity  open_Y_pred  close_Y_pred\n",
              "0   -7.447710     0.974291      0.962259\n",
              "1   -7.923763     0.975928      0.955808\n",
              "2    6.562912     0.975769      0.947229\n",
              "3    5.583990     0.973657      0.938503\n",
              "4   -7.858744     0.970095      0.931860"
            ]
          },
          "metadata": {
            "tags": []
          },
          "execution_count": 149
        }
      ]
    },
    {
      "cell_type": "code",
      "metadata": {
        "colab_type": "code",
        "id": "6BWH_kZ-pgTL",
        "outputId": "86cc7b7e-02de-4e70-e7f6-99a026c8dde3",
        "slideshow": {
          "slide_type": "subslide"
        },
        "colab": {
          "base_uri": "https://localhost:8080/",
          "height": 35
        }
      },
      "source": [
        "#creating Y for ANN model\n",
        "adj_Y_test_gen=adj_Y_test_gen.reshape(-1,1)\n",
        "adj_Y_test_gen_train=adj_Y_test_gen[:data_ann_train.shape[0],:]\n",
        "adj_Y_test_gen_test=adj_Y_test_gen[data_ann_train.shape[0]:,:]\n",
        "adj_Y_test_gen_test.shape"
      ],
      "execution_count": 150,
      "outputs": [
        {
          "output_type": "execute_result",
          "data": {
            "text/plain": [
              "(25, 1)"
            ]
          },
          "metadata": {
            "tags": []
          },
          "execution_count": 150
        }
      ]
    },
    {
      "cell_type": "code",
      "metadata": {
        "colab_type": "code",
        "id": "UJxesiGWplO2",
        "outputId": "cdc7cdec-6d02-44bf-d459-45a544927bb1",
        "slideshow": {
          "slide_type": "skip"
        },
        "colab": {
          "base_uri": "https://localhost:8080/",
          "height": 35
        }
      },
      "source": [
        "data_ann_train=data_ann_train.reshape(3,-1)\n",
        "adj_Y_test_gen_train.shape,adj_Y_test_gen_test.shape"
      ],
      "execution_count": 151,
      "outputs": [
        {
          "output_type": "execute_result",
          "data": {
            "text/plain": [
              "((213, 1), (25, 1))"
            ]
          },
          "metadata": {
            "tags": []
          },
          "execution_count": 151
        }
      ]
    },
    {
      "cell_type": "code",
      "metadata": {
        "colab_type": "code",
        "id": "e9EX9dqQpoa7",
        "outputId": "16158bc9-8a6e-4abf-b611-85eb4220d9d3",
        "slideshow": {
          "slide_type": "slide"
        },
        "colab": {
          "base_uri": "https://localhost:8080/",
          "height": 381
        }
      },
      "source": [
        "model=Sequential()\n",
        "from keras import activations\n",
        "from keras.layers import Dropout\n",
        "model.add(Dense(40,activation=activations.relu,input_shape=(3,)))\n",
        "# model.add(Dropout(0.05))\n",
        "model.add(Dense(30,activation=activations.relu))\n",
        "# model.add(Dropout(0.05))\n",
        "model.add(Dense(50,activation=activations.relu))\n",
        "# model.add(Dropout(0.05))\n",
        "model.add(Dense(100,activation=activations.relu))\n",
        "#model.add(Dense(100,activation=activations.relu))\n",
        "# model.add(Dropout(0.05))\n",
        "model.add(Dense(50,activation=activations.relu))\n",
        "# model.add(Dropout(0.05))\n",
        "model.add(Dense(10,activation=activations.relu))\n",
        "# model.add(Dropout(0.05))\n",
        "model.add(Dense(1,activation=activations.sigmoid))\n",
        "model.compile(optimizer='adam',loss=\"mean_absolute_error\")\n",
        "model.summary()"
      ],
      "execution_count": 152,
      "outputs": [
        {
          "output_type": "stream",
          "text": [
            "_________________________________________________________________\n",
            "Layer (type)                 Output Shape              Param #   \n",
            "=================================================================\n",
            "dense_88 (Dense)             (None, 40)                160       \n",
            "_________________________________________________________________\n",
            "dense_89 (Dense)             (None, 30)                1230      \n",
            "_________________________________________________________________\n",
            "dense_90 (Dense)             (None, 50)                1550      \n",
            "_________________________________________________________________\n",
            "dense_91 (Dense)             (None, 100)               5100      \n",
            "_________________________________________________________________\n",
            "dense_92 (Dense)             (None, 50)                5050      \n",
            "_________________________________________________________________\n",
            "dense_93 (Dense)             (None, 10)                510       \n",
            "_________________________________________________________________\n",
            "dense_94 (Dense)             (None, 1)                 11        \n",
            "=================================================================\n",
            "Total params: 13,611\n",
            "Trainable params: 13,611\n",
            "Non-trainable params: 0\n",
            "_________________________________________________________________\n"
          ],
          "name": "stdout"
        }
      ]
    },
    {
      "cell_type": "code",
      "metadata": {
        "colab_type": "code",
        "id": "m25ZajUjp1s2",
        "outputId": "0a6b817a-71f0-4865-db7e-1994e81db24c",
        "slideshow": {
          "slide_type": "skip"
        },
        "colab": {
          "base_uri": "https://localhost:8080/",
          "height": 35
        }
      },
      "source": [
        "data_ann_train=data_ann_train.reshape(-1,3)\n",
        "adj_Y_test_gen_train=adj_Y_test_gen_train.reshape(-1,1)\n",
        "adj_Y_test_gen_train.shape"
      ],
      "execution_count": 153,
      "outputs": [
        {
          "output_type": "execute_result",
          "data": {
            "text/plain": [
              "(213, 1)"
            ]
          },
          "metadata": {
            "tags": []
          },
          "execution_count": 153
        }
      ]
    },
    {
      "cell_type": "code",
      "metadata": {
        "colab_type": "code",
        "id": "yU3TmhUBqC3p",
        "outputId": "030c674d-be79-4610-af9e-4ab263598f21",
        "slideshow": {
          "slide_type": "slide"
        },
        "colab": {
          "base_uri": "https://localhost:8080/",
          "height": 1000
        }
      },
      "source": [
        "#Training the ANN model\n",
        "model.fit(data_ann_train,adj_Y_test_gen_train,epochs=100,verbose=1,validation_split=0.2)"
      ],
      "execution_count": 154,
      "outputs": [
        {
          "output_type": "stream",
          "text": [
            "Train on 170 samples, validate on 43 samples\n",
            "Epoch 1/100\n",
            "170/170 [==============================] - 3s 19ms/step - loss: 0.2420 - val_loss: 0.1473\n",
            "Epoch 2/100\n",
            "170/170 [==============================] - 0s 199us/step - loss: 0.0624 - val_loss: 0.0165\n",
            "Epoch 3/100\n",
            "170/170 [==============================] - 0s 188us/step - loss: 0.0681 - val_loss: 0.0138\n",
            "Epoch 4/100\n",
            "170/170 [==============================] - 0s 180us/step - loss: 0.0694 - val_loss: 0.0175\n",
            "Epoch 5/100\n",
            "170/170 [==============================] - 0s 196us/step - loss: 0.0534 - val_loss: 0.0546\n",
            "Epoch 6/100\n",
            "170/170 [==============================] - 0s 185us/step - loss: 0.0530 - val_loss: 0.0745\n",
            "Epoch 7/100\n",
            "170/170 [==============================] - 0s 219us/step - loss: 0.0537 - val_loss: 0.0549\n",
            "Epoch 8/100\n",
            "170/170 [==============================] - 0s 195us/step - loss: 0.0507 - val_loss: 0.0354\n",
            "Epoch 9/100\n",
            "170/170 [==============================] - 0s 180us/step - loss: 0.0513 - val_loss: 0.0386\n",
            "Epoch 10/100\n",
            "170/170 [==============================] - 0s 176us/step - loss: 0.0503 - val_loss: 0.0511\n",
            "Epoch 11/100\n",
            "170/170 [==============================] - 0s 180us/step - loss: 0.0498 - val_loss: 0.0606\n",
            "Epoch 12/100\n",
            "170/170 [==============================] - 0s 190us/step - loss: 0.0504 - val_loss: 0.0535\n",
            "Epoch 13/100\n",
            "170/170 [==============================] - 0s 191us/step - loss: 0.0509 - val_loss: 0.0365\n",
            "Epoch 14/100\n",
            "170/170 [==============================] - 0s 181us/step - loss: 0.0492 - val_loss: 0.0533\n",
            "Epoch 15/100\n",
            "170/170 [==============================] - 0s 200us/step - loss: 0.0489 - val_loss: 0.0644\n",
            "Epoch 16/100\n",
            "170/170 [==============================] - 0s 190us/step - loss: 0.0496 - val_loss: 0.0525\n",
            "Epoch 17/100\n",
            "170/170 [==============================] - 0s 188us/step - loss: 0.0482 - val_loss: 0.0405\n",
            "Epoch 18/100\n",
            "170/170 [==============================] - 0s 194us/step - loss: 0.0478 - val_loss: 0.0517\n",
            "Epoch 19/100\n",
            "170/170 [==============================] - 0s 190us/step - loss: 0.0472 - val_loss: 0.0517\n",
            "Epoch 20/100\n",
            "170/170 [==============================] - 0s 196us/step - loss: 0.0472 - val_loss: 0.0402\n",
            "Epoch 21/100\n",
            "170/170 [==============================] - 0s 187us/step - loss: 0.0468 - val_loss: 0.0495\n",
            "Epoch 22/100\n",
            "170/170 [==============================] - 0s 226us/step - loss: 0.0466 - val_loss: 0.0602\n",
            "Epoch 23/100\n",
            "170/170 [==============================] - 0s 188us/step - loss: 0.0465 - val_loss: 0.0434\n",
            "Epoch 24/100\n",
            "170/170 [==============================] - 0s 188us/step - loss: 0.0468 - val_loss: 0.0444\n",
            "Epoch 25/100\n",
            "170/170 [==============================] - 0s 200us/step - loss: 0.0469 - val_loss: 0.0620\n",
            "Epoch 26/100\n",
            "170/170 [==============================] - 0s 186us/step - loss: 0.0462 - val_loss: 0.0317\n",
            "Epoch 27/100\n",
            "170/170 [==============================] - 0s 194us/step - loss: 0.0454 - val_loss: 0.0548\n",
            "Epoch 28/100\n",
            "170/170 [==============================] - 0s 196us/step - loss: 0.0450 - val_loss: 0.0491\n",
            "Epoch 29/100\n",
            "170/170 [==============================] - 0s 181us/step - loss: 0.0449 - val_loss: 0.0554\n",
            "Epoch 30/100\n",
            "170/170 [==============================] - 0s 176us/step - loss: 0.0442 - val_loss: 0.0558\n",
            "Epoch 31/100\n",
            "170/170 [==============================] - 0s 198us/step - loss: 0.0437 - val_loss: 0.0399\n",
            "Epoch 32/100\n",
            "170/170 [==============================] - 0s 180us/step - loss: 0.0445 - val_loss: 0.0474\n",
            "Epoch 33/100\n",
            "170/170 [==============================] - 0s 203us/step - loss: 0.0440 - val_loss: 0.0656\n",
            "Epoch 34/100\n",
            "170/170 [==============================] - 0s 208us/step - loss: 0.0456 - val_loss: 0.0582\n",
            "Epoch 35/100\n",
            "170/170 [==============================] - 0s 178us/step - loss: 0.0442 - val_loss: 0.0437\n",
            "Epoch 36/100\n",
            "170/170 [==============================] - 0s 220us/step - loss: 0.0442 - val_loss: 0.0625\n",
            "Epoch 37/100\n",
            "170/170 [==============================] - 0s 246us/step - loss: 0.0441 - val_loss: 0.0445\n",
            "Epoch 38/100\n",
            "170/170 [==============================] - 0s 212us/step - loss: 0.0450 - val_loss: 0.0628\n",
            "Epoch 39/100\n",
            "170/170 [==============================] - 0s 186us/step - loss: 0.0437 - val_loss: 0.0388\n",
            "Epoch 40/100\n",
            "170/170 [==============================] - 0s 185us/step - loss: 0.0436 - val_loss: 0.0520\n",
            "Epoch 41/100\n",
            "170/170 [==============================] - 0s 180us/step - loss: 0.0446 - val_loss: 0.0491\n",
            "Epoch 42/100\n",
            "170/170 [==============================] - 0s 181us/step - loss: 0.0436 - val_loss: 0.0520\n",
            "Epoch 43/100\n",
            "170/170 [==============================] - 0s 180us/step - loss: 0.0423 - val_loss: 0.0542\n",
            "Epoch 44/100\n",
            "170/170 [==============================] - 0s 198us/step - loss: 0.0425 - val_loss: 0.0486\n",
            "Epoch 45/100\n",
            "170/170 [==============================] - 0s 193us/step - loss: 0.0428 - val_loss: 0.0556\n",
            "Epoch 46/100\n",
            "170/170 [==============================] - 0s 201us/step - loss: 0.0430 - val_loss: 0.0437\n",
            "Epoch 47/100\n",
            "170/170 [==============================] - 0s 196us/step - loss: 0.0428 - val_loss: 0.0497\n",
            "Epoch 48/100\n",
            "170/170 [==============================] - 0s 187us/step - loss: 0.0421 - val_loss: 0.0623\n",
            "Epoch 49/100\n",
            "170/170 [==============================] - 0s 182us/step - loss: 0.0465 - val_loss: 0.0420\n",
            "Epoch 50/100\n",
            "170/170 [==============================] - 0s 202us/step - loss: 0.0421 - val_loss: 0.0496\n",
            "Epoch 51/100\n",
            "170/170 [==============================] - 0s 196us/step - loss: 0.0427 - val_loss: 0.0492\n",
            "Epoch 52/100\n",
            "170/170 [==============================] - 0s 176us/step - loss: 0.0435 - val_loss: 0.0568\n",
            "Epoch 53/100\n",
            "170/170 [==============================] - 0s 190us/step - loss: 0.0423 - val_loss: 0.0490\n",
            "Epoch 54/100\n",
            "170/170 [==============================] - 0s 182us/step - loss: 0.0426 - val_loss: 0.0496\n",
            "Epoch 55/100\n",
            "170/170 [==============================] - 0s 180us/step - loss: 0.0419 - val_loss: 0.0406\n",
            "Epoch 56/100\n",
            "170/170 [==============================] - 0s 196us/step - loss: 0.0430 - val_loss: 0.0519\n",
            "Epoch 57/100\n",
            "170/170 [==============================] - 0s 206us/step - loss: 0.0419 - val_loss: 0.0427\n",
            "Epoch 58/100\n",
            "170/170 [==============================] - 0s 187us/step - loss: 0.0428 - val_loss: 0.0338\n",
            "Epoch 59/100\n",
            "170/170 [==============================] - 0s 188us/step - loss: 0.0426 - val_loss: 0.0587\n",
            "Epoch 60/100\n",
            "170/170 [==============================] - 0s 199us/step - loss: 0.0421 - val_loss: 0.0318\n",
            "Epoch 61/100\n",
            "170/170 [==============================] - 0s 179us/step - loss: 0.0414 - val_loss: 0.0711\n",
            "Epoch 62/100\n",
            "170/170 [==============================] - 0s 189us/step - loss: 0.0443 - val_loss: 0.0414\n",
            "Epoch 63/100\n",
            "170/170 [==============================] - 0s 187us/step - loss: 0.0403 - val_loss: 0.0647\n",
            "Epoch 64/100\n",
            "170/170 [==============================] - 0s 200us/step - loss: 0.0440 - val_loss: 0.0357\n",
            "Epoch 65/100\n",
            "170/170 [==============================] - 0s 186us/step - loss: 0.0452 - val_loss: 0.0734\n",
            "Epoch 66/100\n",
            "170/170 [==============================] - 0s 204us/step - loss: 0.0438 - val_loss: 0.0301\n",
            "Epoch 67/100\n",
            "170/170 [==============================] - 0s 225us/step - loss: 0.0451 - val_loss: 0.0380\n",
            "Epoch 68/100\n",
            "170/170 [==============================] - 0s 169us/step - loss: 0.0405 - val_loss: 0.0643\n",
            "Epoch 69/100\n",
            "170/170 [==============================] - 0s 198us/step - loss: 0.0415 - val_loss: 0.0447\n",
            "Epoch 70/100\n",
            "170/170 [==============================] - 0s 200us/step - loss: 0.0414 - val_loss: 0.0482\n",
            "Epoch 71/100\n",
            "170/170 [==============================] - 0s 194us/step - loss: 0.0420 - val_loss: 0.0279\n",
            "Epoch 72/100\n",
            "170/170 [==============================] - 0s 192us/step - loss: 0.0408 - val_loss: 0.0566\n",
            "Epoch 73/100\n",
            "170/170 [==============================] - 0s 188us/step - loss: 0.0404 - val_loss: 0.0415\n",
            "Epoch 74/100\n",
            "170/170 [==============================] - 0s 203us/step - loss: 0.0400 - val_loss: 0.0585\n",
            "Epoch 75/100\n",
            "170/170 [==============================] - 0s 193us/step - loss: 0.0414 - val_loss: 0.0372\n",
            "Epoch 76/100\n",
            "170/170 [==============================] - 0s 218us/step - loss: 0.0399 - val_loss: 0.0524\n",
            "Epoch 77/100\n",
            "170/170 [==============================] - 0s 199us/step - loss: 0.0402 - val_loss: 0.0294\n",
            "Epoch 78/100\n",
            "170/170 [==============================] - 0s 181us/step - loss: 0.0420 - val_loss: 0.0564\n",
            "Epoch 79/100\n",
            "170/170 [==============================] - 0s 187us/step - loss: 0.0398 - val_loss: 0.0500\n",
            "Epoch 80/100\n",
            "170/170 [==============================] - 0s 194us/step - loss: 0.0391 - val_loss: 0.0363\n",
            "Epoch 81/100\n",
            "170/170 [==============================] - 0s 211us/step - loss: 0.0403 - val_loss: 0.0546\n",
            "Epoch 82/100\n",
            "170/170 [==============================] - 0s 197us/step - loss: 0.0378 - val_loss: 0.0459\n",
            "Epoch 83/100\n",
            "170/170 [==============================] - 0s 180us/step - loss: 0.0390 - val_loss: 0.0374\n",
            "Epoch 84/100\n",
            "170/170 [==============================] - 0s 188us/step - loss: 0.0368 - val_loss: 0.0483\n",
            "Epoch 85/100\n",
            "170/170 [==============================] - 0s 181us/step - loss: 0.0371 - val_loss: 0.0447\n",
            "Epoch 86/100\n",
            "170/170 [==============================] - 0s 199us/step - loss: 0.0367 - val_loss: 0.0472\n",
            "Epoch 87/100\n",
            "170/170 [==============================] - 0s 194us/step - loss: 0.0358 - val_loss: 0.0320\n",
            "Epoch 88/100\n",
            "170/170 [==============================] - 0s 192us/step - loss: 0.0398 - val_loss: 0.0537\n",
            "Epoch 89/100\n",
            "170/170 [==============================] - 0s 191us/step - loss: 0.0360 - val_loss: 0.0316\n",
            "Epoch 90/100\n",
            "170/170 [==============================] - 0s 195us/step - loss: 0.0387 - val_loss: 0.0330\n",
            "Epoch 91/100\n",
            "170/170 [==============================] - 0s 187us/step - loss: 0.0407 - val_loss: 0.0544\n",
            "Epoch 92/100\n",
            "170/170 [==============================] - 0s 201us/step - loss: 0.0396 - val_loss: 0.0247\n",
            "Epoch 93/100\n",
            "170/170 [==============================] - 0s 186us/step - loss: 0.0485 - val_loss: 0.0426\n",
            "Epoch 94/100\n",
            "170/170 [==============================] - 0s 190us/step - loss: 0.0442 - val_loss: 0.0769\n",
            "Epoch 95/100\n",
            "170/170 [==============================] - 0s 191us/step - loss: 0.0425 - val_loss: 0.0295\n",
            "Epoch 96/100\n",
            "170/170 [==============================] - 0s 197us/step - loss: 0.0432 - val_loss: 0.0452\n",
            "Epoch 97/100\n",
            "170/170 [==============================] - 0s 236us/step - loss: 0.0399 - val_loss: 0.0566\n",
            "Epoch 98/100\n",
            "170/170 [==============================] - 0s 228us/step - loss: 0.0422 - val_loss: 0.0503\n",
            "Epoch 99/100\n",
            "170/170 [==============================] - 0s 231us/step - loss: 0.0400 - val_loss: 0.0320\n",
            "Epoch 100/100\n",
            "170/170 [==============================] - 0s 182us/step - loss: 0.0399 - val_loss: 0.0518\n"
          ],
          "name": "stdout"
        },
        {
          "output_type": "execute_result",
          "data": {
            "text/plain": [
              "<keras.callbacks.History at 0x7fe3e89f4780>"
            ]
          },
          "metadata": {
            "tags": []
          },
          "execution_count": 154
        }
      ]
    },
    {
      "cell_type": "code",
      "metadata": {
        "colab_type": "code",
        "id": "DnNtuG3fqOXL",
        "outputId": "ab322b78-b9dc-4fc3-f50b-57a164c6bcca",
        "slideshow": {
          "slide_type": "skip"
        },
        "colab": {
          "base_uri": "https://localhost:8080/",
          "height": 35
        }
      },
      "source": [
        "data_ann_test=senti.iloc[(senti.shape[0]-25):,2:3].values\n",
        "# data_ann_test.shape\n",
        "data_ann_test=np.hstack((data_ann_test,open_Y_pred[data_ann_train.shape[0]:,:],close_Y_pred[data_ann_train.shape[0]:,:]))\n",
        "pd.DataFrame(data_ann_test,columns=[\"s.polarity\",\"open_Y_pred\",\"close_Y_pred\"]).head()\n",
        "data_ann_test.shape"
      ],
      "execution_count": 155,
      "outputs": [
        {
          "output_type": "execute_result",
          "data": {
            "text/plain": [
              "(25, 3)"
            ]
          },
          "metadata": {
            "tags": []
          },
          "execution_count": 155
        }
      ]
    },
    {
      "cell_type": "code",
      "metadata": {
        "colab_type": "code",
        "id": "oVu8_OASqWaw",
        "slideshow": {
          "slide_type": "skip"
        },
        "colab": {}
      },
      "source": [
        "data_ann_pred_with_ps=model.predict(data_ann_test)+0.02"
      ],
      "execution_count": 0,
      "outputs": []
    },
    {
      "cell_type": "markdown",
      "metadata": {
        "colab_type": "text",
        "id": "jIgEiAcqqbyK",
        "slideshow": {
          "slide_type": "slide"
        }
      },
      "source": [
        "## **ANN Model Without Polarity**"
      ]
    },
    {
      "cell_type": "markdown",
      "metadata": {
        "colab_type": "text",
        "id": "omuxIMjZgl3M",
        "slideshow": {
          "slide_type": "slide"
        }
      },
      "source": [
        "<img src = \"https://drive.google.com/uc?id=1Ivo1qYzR5NuT63Bo4ZQsIb--c9ct0TMS\">"
      ]
    },
    {
      "cell_type": "code",
      "metadata": {
        "colab_type": "code",
        "id": "0LYicRhwqgTA",
        "outputId": "55ea8825-1831-4eb0-e45b-e673027c3827",
        "slideshow": {
          "slide_type": "slide"
        },
        "colab": {
          "base_uri": "https://localhost:8080/",
          "height": 485
        }
      },
      "source": [
        "model=Sequential()\n",
        "from keras import activations\n",
        "from keras.layers import Dropout\n",
        "model.add(Dense(40,activation=activations.relu,input_shape=(2,)))\n",
        "# model.add(Dropout(0.05))\n",
        "model.add(Dense(30,activation=activations.relu))\n",
        "model.add(Dropout(0.05))\n",
        "model.add(Dense(50,activation=activations.relu))\n",
        "# model.add(Dropout(0.05))\n",
        "model.add(Dense(100,activation=activations.relu))\n",
        "model.add(Dropout(0.05))\n",
        "model.add(Dense(50,activation=activations.relu))\n",
        "# model.add(Dropout(0.05))\n",
        "model.add(Dense(10,activation=activations.relu))\n",
        "model.add(Dropout(0.05))\n",
        "model.add(Dense(1,activation=activations.sigmoid))\n",
        "model.compile(optimizer='adam',loss='mean_absolute_error')\n",
        "model.summary()"
      ],
      "execution_count": 157,
      "outputs": [
        {
          "output_type": "stream",
          "text": [
            "_________________________________________________________________\n",
            "Layer (type)                 Output Shape              Param #   \n",
            "=================================================================\n",
            "dense_95 (Dense)             (None, 40)                120       \n",
            "_________________________________________________________________\n",
            "dense_96 (Dense)             (None, 30)                1230      \n",
            "_________________________________________________________________\n",
            "dropout_28 (Dropout)         (None, 30)                0         \n",
            "_________________________________________________________________\n",
            "dense_97 (Dense)             (None, 50)                1550      \n",
            "_________________________________________________________________\n",
            "dense_98 (Dense)             (None, 100)               5100      \n",
            "_________________________________________________________________\n",
            "dropout_29 (Dropout)         (None, 100)               0         \n",
            "_________________________________________________________________\n",
            "dense_99 (Dense)             (None, 50)                5050      \n",
            "_________________________________________________________________\n",
            "dense_100 (Dense)            (None, 10)                510       \n",
            "_________________________________________________________________\n",
            "dropout_30 (Dropout)         (None, 10)                0         \n",
            "_________________________________________________________________\n",
            "dense_101 (Dense)            (None, 1)                 11        \n",
            "=================================================================\n",
            "Total params: 13,571\n",
            "Trainable params: 13,571\n",
            "Non-trainable params: 0\n",
            "_________________________________________________________________\n"
          ],
          "name": "stdout"
        }
      ]
    },
    {
      "cell_type": "code",
      "metadata": {
        "colab_type": "code",
        "id": "HTVgeX6oqlf7",
        "slideshow": {
          "slide_type": "slide"
        },
        "colab": {}
      },
      "source": [
        "data_ann_train=pd.DataFrame(data_ann_train)\n",
        "data_ann_train.head()\n",
        "data_ann_train=data_ann_train.drop(0,1)\n",
        "data_ann_train=data_ann_train.iloc[:,:].values"
      ],
      "execution_count": 0,
      "outputs": []
    },
    {
      "cell_type": "code",
      "metadata": {
        "colab_type": "code",
        "id": "KEsGrCe8q1I2",
        "slideshow": {
          "slide_type": "slide"
        },
        "colab": {}
      },
      "source": [
        "data_ann_test=pd.DataFrame(data_ann_test)\n",
        "data_ann_test.head()\n",
        "data_ann_test=data_ann_test.drop(0,1)\n",
        "data_ann_test=data_ann_test.iloc[:,:].values"
      ],
      "execution_count": 0,
      "outputs": []
    },
    {
      "cell_type": "code",
      "metadata": {
        "colab_type": "code",
        "id": "DEqyuNLmq5np",
        "outputId": "9a30db85-e5e2-44c7-e43f-456291cbc00b",
        "slideshow": {
          "slide_type": "slide"
        },
        "colab": {
          "base_uri": "https://localhost:8080/",
          "height": 1000
        }
      },
      "source": [
        "#Training the model without Polarity score\n",
        "model.fit(data_ann_train,adj_Y_test_gen_train,epochs=100,verbose=1,validation_split=0.2)"
      ],
      "execution_count": 160,
      "outputs": [
        {
          "output_type": "stream",
          "text": [
            "Train on 170 samples, validate on 43 samples\n",
            "Epoch 1/100\n",
            "170/170 [==============================] - 3s 20ms/step - loss: 0.3762 - val_loss: 0.4073\n",
            "Epoch 2/100\n",
            "170/170 [==============================] - 0s 209us/step - loss: 0.3179 - val_loss: 0.3241\n",
            "Epoch 3/100\n",
            "170/170 [==============================] - 0s 196us/step - loss: 0.2216 - val_loss: 0.1951\n",
            "Epoch 4/100\n",
            "170/170 [==============================] - 0s 193us/step - loss: 0.0951 - val_loss: 0.0476\n",
            "Epoch 5/100\n",
            "170/170 [==============================] - 0s 191us/step - loss: 0.0542 - val_loss: 0.0128\n",
            "Epoch 6/100\n",
            "170/170 [==============================] - 0s 192us/step - loss: 0.0653 - val_loss: 0.0118\n",
            "Epoch 7/100\n",
            "170/170 [==============================] - 0s 189us/step - loss: 0.0561 - val_loss: 0.0326\n",
            "Epoch 8/100\n",
            "170/170 [==============================] - 0s 203us/step - loss: 0.0528 - val_loss: 0.0655\n",
            "Epoch 9/100\n",
            "170/170 [==============================] - 0s 193us/step - loss: 0.0474 - val_loss: 0.0660\n",
            "Epoch 10/100\n",
            "170/170 [==============================] - 0s 212us/step - loss: 0.0479 - val_loss: 0.0441\n",
            "Epoch 11/100\n",
            "170/170 [==============================] - 0s 197us/step - loss: 0.0498 - val_loss: 0.0334\n",
            "Epoch 12/100\n",
            "170/170 [==============================] - 0s 194us/step - loss: 0.0481 - val_loss: 0.0330\n",
            "Epoch 13/100\n",
            "170/170 [==============================] - 0s 193us/step - loss: 0.0468 - val_loss: 0.0496\n",
            "Epoch 14/100\n",
            "170/170 [==============================] - 0s 192us/step - loss: 0.0478 - val_loss: 0.0573\n",
            "Epoch 15/100\n",
            "170/170 [==============================] - 0s 194us/step - loss: 0.0466 - val_loss: 0.0553\n",
            "Epoch 16/100\n",
            "170/170 [==============================] - 0s 199us/step - loss: 0.0464 - val_loss: 0.0478\n",
            "Epoch 17/100\n",
            "170/170 [==============================] - 0s 211us/step - loss: 0.0450 - val_loss: 0.0389\n",
            "Epoch 18/100\n",
            "170/170 [==============================] - 0s 198us/step - loss: 0.0460 - val_loss: 0.0370\n",
            "Epoch 19/100\n",
            "170/170 [==============================] - 0s 204us/step - loss: 0.0474 - val_loss: 0.0503\n",
            "Epoch 20/100\n",
            "170/170 [==============================] - 0s 194us/step - loss: 0.0431 - val_loss: 0.0615\n",
            "Epoch 21/100\n",
            "170/170 [==============================] - 0s 195us/step - loss: 0.0453 - val_loss: 0.0615\n",
            "Epoch 22/100\n",
            "170/170 [==============================] - 0s 189us/step - loss: 0.0467 - val_loss: 0.0494\n",
            "Epoch 23/100\n",
            "170/170 [==============================] - 0s 190us/step - loss: 0.0471 - val_loss: 0.0434\n",
            "Epoch 24/100\n",
            "170/170 [==============================] - 0s 197us/step - loss: 0.0429 - val_loss: 0.0498\n",
            "Epoch 25/100\n",
            "170/170 [==============================] - 0s 241us/step - loss: 0.0469 - val_loss: 0.0628\n",
            "Epoch 26/100\n",
            "170/170 [==============================] - 0s 191us/step - loss: 0.0459 - val_loss: 0.0495\n",
            "Epoch 27/100\n",
            "170/170 [==============================] - 0s 207us/step - loss: 0.0455 - val_loss: 0.0367\n",
            "Epoch 28/100\n",
            "170/170 [==============================] - 0s 194us/step - loss: 0.0474 - val_loss: 0.0522\n",
            "Epoch 29/100\n",
            "170/170 [==============================] - 0s 188us/step - loss: 0.0425 - val_loss: 0.0622\n",
            "Epoch 30/100\n",
            "170/170 [==============================] - 0s 193us/step - loss: 0.0429 - val_loss: 0.0548\n",
            "Epoch 31/100\n",
            "170/170 [==============================] - 0s 194us/step - loss: 0.0441 - val_loss: 0.0531\n",
            "Epoch 32/100\n",
            "170/170 [==============================] - 0s 217us/step - loss: 0.0436 - val_loss: 0.0476\n",
            "Epoch 33/100\n",
            "170/170 [==============================] - 0s 213us/step - loss: 0.0469 - val_loss: 0.0467\n",
            "Epoch 34/100\n",
            "170/170 [==============================] - 0s 190us/step - loss: 0.0451 - val_loss: 0.0532\n",
            "Epoch 35/100\n",
            "170/170 [==============================] - 0s 191us/step - loss: 0.0443 - val_loss: 0.0528\n",
            "Epoch 36/100\n",
            "170/170 [==============================] - 0s 188us/step - loss: 0.0456 - val_loss: 0.0560\n",
            "Epoch 37/100\n",
            "170/170 [==============================] - 0s 195us/step - loss: 0.0464 - val_loss: 0.0468\n",
            "Epoch 38/100\n",
            "170/170 [==============================] - 0s 232us/step - loss: 0.0444 - val_loss: 0.0428\n",
            "Epoch 39/100\n",
            "170/170 [==============================] - 0s 186us/step - loss: 0.0464 - val_loss: 0.0642\n",
            "Epoch 40/100\n",
            "170/170 [==============================] - 0s 188us/step - loss: 0.0464 - val_loss: 0.0528\n",
            "Epoch 41/100\n",
            "170/170 [==============================] - 0s 223us/step - loss: 0.0449 - val_loss: 0.0527\n",
            "Epoch 42/100\n",
            "170/170 [==============================] - 0s 197us/step - loss: 0.0471 - val_loss: 0.0557\n",
            "Epoch 43/100\n",
            "170/170 [==============================] - 0s 192us/step - loss: 0.0444 - val_loss: 0.0481\n",
            "Epoch 44/100\n",
            "170/170 [==============================] - 0s 196us/step - loss: 0.0446 - val_loss: 0.0555\n",
            "Epoch 45/100\n",
            "170/170 [==============================] - 0s 195us/step - loss: 0.0457 - val_loss: 0.0553\n",
            "Epoch 46/100\n",
            "170/170 [==============================] - 0s 193us/step - loss: 0.0439 - val_loss: 0.0399\n",
            "Epoch 47/100\n",
            "170/170 [==============================] - 0s 190us/step - loss: 0.0468 - val_loss: 0.0441\n",
            "Epoch 48/100\n",
            "170/170 [==============================] - 0s 194us/step - loss: 0.0416 - val_loss: 0.0639\n",
            "Epoch 49/100\n",
            "170/170 [==============================] - 0s 189us/step - loss: 0.0450 - val_loss: 0.0618\n",
            "Epoch 50/100\n",
            "170/170 [==============================] - 0s 188us/step - loss: 0.0488 - val_loss: 0.0488\n",
            "Epoch 51/100\n",
            "170/170 [==============================] - 0s 205us/step - loss: 0.0442 - val_loss: 0.0318\n",
            "Epoch 52/100\n",
            "170/170 [==============================] - 0s 211us/step - loss: 0.0449 - val_loss: 0.0545\n",
            "Epoch 53/100\n",
            "170/170 [==============================] - 0s 215us/step - loss: 0.0403 - val_loss: 0.0513\n",
            "Epoch 54/100\n",
            "170/170 [==============================] - 0s 248us/step - loss: 0.0432 - val_loss: 0.0540\n",
            "Epoch 55/100\n",
            "170/170 [==============================] - 0s 201us/step - loss: 0.0445 - val_loss: 0.0540\n",
            "Epoch 56/100\n",
            "170/170 [==============================] - 0s 195us/step - loss: 0.0447 - val_loss: 0.0680\n",
            "Epoch 57/100\n",
            "170/170 [==============================] - 0s 195us/step - loss: 0.0432 - val_loss: 0.0435\n",
            "Epoch 58/100\n",
            "170/170 [==============================] - 0s 196us/step - loss: 0.0439 - val_loss: 0.0520\n",
            "Epoch 59/100\n",
            "170/170 [==============================] - 0s 200us/step - loss: 0.0439 - val_loss: 0.0635\n",
            "Epoch 60/100\n",
            "170/170 [==============================] - 0s 195us/step - loss: 0.0431 - val_loss: 0.0569\n",
            "Epoch 61/100\n",
            "170/170 [==============================] - 0s 200us/step - loss: 0.0426 - val_loss: 0.0338\n",
            "Epoch 62/100\n",
            "170/170 [==============================] - 0s 199us/step - loss: 0.0426 - val_loss: 0.0559\n",
            "Epoch 63/100\n",
            "170/170 [==============================] - 0s 196us/step - loss: 0.0403 - val_loss: 0.0475\n",
            "Epoch 64/100\n",
            "170/170 [==============================] - 0s 189us/step - loss: 0.0403 - val_loss: 0.0443\n",
            "Epoch 65/100\n",
            "170/170 [==============================] - 0s 197us/step - loss: 0.0417 - val_loss: 0.0540\n",
            "Epoch 66/100\n",
            "170/170 [==============================] - 0s 192us/step - loss: 0.0403 - val_loss: 0.0483\n",
            "Epoch 67/100\n",
            "170/170 [==============================] - 0s 222us/step - loss: 0.0422 - val_loss: 0.0573\n",
            "Epoch 68/100\n",
            "170/170 [==============================] - 0s 199us/step - loss: 0.0432 - val_loss: 0.0521\n",
            "Epoch 69/100\n",
            "170/170 [==============================] - 0s 191us/step - loss: 0.0419 - val_loss: 0.0562\n",
            "Epoch 70/100\n",
            "170/170 [==============================] - 0s 196us/step - loss: 0.0432 - val_loss: 0.0466\n",
            "Epoch 71/100\n",
            "170/170 [==============================] - 0s 185us/step - loss: 0.0401 - val_loss: 0.0532\n",
            "Epoch 72/100\n",
            "170/170 [==============================] - 0s 197us/step - loss: 0.0432 - val_loss: 0.0662\n",
            "Epoch 73/100\n",
            "170/170 [==============================] - 0s 193us/step - loss: 0.0423 - val_loss: 0.0330\n",
            "Epoch 74/100\n",
            "170/170 [==============================] - 0s 198us/step - loss: 0.0454 - val_loss: 0.0518\n",
            "Epoch 75/100\n",
            "170/170 [==============================] - 0s 194us/step - loss: 0.0435 - val_loss: 0.0587\n",
            "Epoch 76/100\n",
            "170/170 [==============================] - 0s 195us/step - loss: 0.0393 - val_loss: 0.0444\n",
            "Epoch 77/100\n",
            "170/170 [==============================] - 0s 197us/step - loss: 0.0435 - val_loss: 0.0493\n",
            "Epoch 78/100\n",
            "170/170 [==============================] - 0s 195us/step - loss: 0.0397 - val_loss: 0.0635\n",
            "Epoch 79/100\n",
            "170/170 [==============================] - 0s 198us/step - loss: 0.0416 - val_loss: 0.0266\n",
            "Epoch 80/100\n",
            "170/170 [==============================] - 0s 203us/step - loss: 0.0431 - val_loss: 0.0548\n",
            "Epoch 81/100\n",
            "170/170 [==============================] - 0s 203us/step - loss: 0.0396 - val_loss: 0.0451\n",
            "Epoch 82/100\n",
            "170/170 [==============================] - 0s 201us/step - loss: 0.0442 - val_loss: 0.0361\n",
            "Epoch 83/100\n",
            "170/170 [==============================] - 0s 245us/step - loss: 0.0407 - val_loss: 0.0662\n",
            "Epoch 84/100\n",
            "170/170 [==============================] - 0s 193us/step - loss: 0.0414 - val_loss: 0.0318\n",
            "Epoch 85/100\n",
            "170/170 [==============================] - 0s 202us/step - loss: 0.0399 - val_loss: 0.0610\n",
            "Epoch 86/100\n",
            "170/170 [==============================] - 0s 195us/step - loss: 0.0421 - val_loss: 0.0528\n",
            "Epoch 87/100\n",
            "170/170 [==============================] - 0s 191us/step - loss: 0.0388 - val_loss: 0.0534\n",
            "Epoch 88/100\n",
            "170/170 [==============================] - 0s 196us/step - loss: 0.0388 - val_loss: 0.0525\n",
            "Epoch 89/100\n",
            "170/170 [==============================] - 0s 191us/step - loss: 0.0416 - val_loss: 0.0552\n",
            "Epoch 90/100\n",
            "170/170 [==============================] - 0s 196us/step - loss: 0.0370 - val_loss: 0.0487\n",
            "Epoch 91/100\n",
            "170/170 [==============================] - 0s 190us/step - loss: 0.0403 - val_loss: 0.0469\n",
            "Epoch 92/100\n",
            "170/170 [==============================] - 0s 190us/step - loss: 0.0426 - val_loss: 0.0583\n",
            "Epoch 93/100\n",
            "170/170 [==============================] - 0s 200us/step - loss: 0.0404 - val_loss: 0.0409\n",
            "Epoch 94/100\n",
            "170/170 [==============================] - 0s 197us/step - loss: 0.0411 - val_loss: 0.0448\n",
            "Epoch 95/100\n",
            "170/170 [==============================] - 0s 201us/step - loss: 0.0467 - val_loss: 0.0506\n",
            "Epoch 96/100\n",
            "170/170 [==============================] - 0s 202us/step - loss: 0.0401 - val_loss: 0.0368\n",
            "Epoch 97/100\n",
            "170/170 [==============================] - 0s 195us/step - loss: 0.0351 - val_loss: 0.0522\n",
            "Epoch 98/100\n",
            "170/170 [==============================] - 0s 187us/step - loss: 0.0398 - val_loss: 0.0506\n",
            "Epoch 99/100\n",
            "170/170 [==============================] - 0s 195us/step - loss: 0.0380 - val_loss: 0.0346\n",
            "Epoch 100/100\n",
            "170/170 [==============================] - 0s 195us/step - loss: 0.0369 - val_loss: 0.0484\n"
          ],
          "name": "stdout"
        },
        {
          "output_type": "execute_result",
          "data": {
            "text/plain": [
              "<keras.callbacks.History at 0x7fe3e841b080>"
            ]
          },
          "metadata": {
            "tags": []
          },
          "execution_count": 160
        }
      ]
    },
    {
      "cell_type": "code",
      "metadata": {
        "colab_type": "code",
        "id": "xfIH374QrAcL",
        "slideshow": {
          "slide_type": "skip"
        },
        "colab": {}
      },
      "source": [
        "data_ann_pred=model.predict(data_ann_test)\n"
      ],
      "execution_count": 0,
      "outputs": []
    },
    {
      "cell_type": "markdown",
      "metadata": {
        "colab_type": "text",
        "id": "sx7XKlbkrgEs",
        "slideshow": {
          "slide_type": "slide"
        }
      },
      "source": [
        "## **Visualizing the difference between models with and without the use of polarity score**"
      ]
    },
    {
      "cell_type": "code",
      "metadata": {
        "colab_type": "code",
        "id": "D_ndSX8ZrsU7",
        "outputId": "55d86cce-2201-4a94-908e-95dcc6ea565f",
        "slideshow": {
          "slide_type": "slide"
        },
        "colab": {
          "base_uri": "https://localhost:8080/",
          "height": 299
        }
      },
      "source": [
        "plt.plot(data_ann_pred+0.02,label=\"prdicted\")\n",
        "plt.plot(adj_Y_test_gen_test,label=\"actual\")\n",
        "plt.title(\"WIthout Polarity Score\")\n",
        "#plt.xlim(400,420)\n",
        "plt.legend()"
      ],
      "execution_count": 162,
      "outputs": [
        {
          "output_type": "execute_result",
          "data": {
            "text/plain": [
              "<matplotlib.legend.Legend at 0x7fe3e7b5ef98>"
            ]
          },
          "metadata": {
            "tags": []
          },
          "execution_count": 162
        },
        {
          "output_type": "display_data",
          "data": {
            "image/png": "[encoded data removed]",
            "text/plain": [
              "<Figure size 432x288 with 1 Axes>"
            ]
          },
          "metadata": {
            "tags": []
          }
        }
      ]
    },
    {
      "cell_type": "code",
      "metadata": {
        "id": "5r-pHB15_xJH",
        "colab_type": "code",
        "colab": {
          "base_uri": "https://localhost:8080/",
          "height": 35
        },
        "outputId": "8b3f0415-90b6-42cb-fe3d-2b2a5fa8d559"
      },
      "source": [
        "from sklearn.metrics import r2_score\n",
        "r2_score(data_ann_pred+0.02,adj_Y_test_gen_test)"
      ],
      "execution_count": 163,
      "outputs": [
        {
          "output_type": "execute_result",
          "data": {
            "text/plain": [
              "-171.01267375241628"
            ]
          },
          "metadata": {
            "tags": []
          },
          "execution_count": 163
        }
      ]
    },
    {
      "cell_type": "code",
      "metadata": {
        "colab_type": "code",
        "id": "zIhJpwemrEML",
        "outputId": "6a823bba-fbcc-4107-b737-7ada84fb2f02",
        "slideshow": {
          "slide_type": "slide"
        },
        "colab": {
          "base_uri": "https://localhost:8080/",
          "height": 299
        }
      },
      "source": [
        "plt.plot(data_ann_pred_with_ps,label=\"prdicted\")\n",
        "plt.plot(adj_Y_test_gen_test,label=\"actual\")\n",
        "plt.title(\"With Polarity Score\")\n",
        "#plt.xlim(400,420)\n",
        "plt.legend()"
      ],
      "execution_count": 164,
      "outputs": [
        {
          "output_type": "execute_result",
          "data": {
            "text/plain": [
              "<matplotlib.legend.Legend at 0x7fe3e7ad0208>"
            ]
          },
          "metadata": {
            "tags": []
          },
          "execution_count": 164
        },
        {
          "output_type": "display_data",
          "data": {
            "image/png": "[encoded data removed]",
            "text/plain": [
              "<Figure size 432x288 with 1 Axes>"
            ]
          },
          "metadata": {
            "tags": []
          }
        }
      ]
    },
    {
      "cell_type": "code",
      "metadata": {
        "colab_type": "code",
        "id": "yrkz-22TsKpD",
        "colab": {
          "base_uri": "https://localhost:8080/",
          "height": 35
        },
        "outputId": "590d1d29-9698-4171-bee1-0fc06d14b4b5"
      },
      "source": [
        "from sklearn.metrics import r2_score\n",
        "r2_score(data_ann_pred_with_ps,adj_Y_test_gen_test)\n"
      ],
      "execution_count": 165,
      "outputs": [
        {
          "output_type": "execute_result",
          "data": {
            "text/plain": [
              "-0.005638673340590872"
            ]
          },
          "metadata": {
            "tags": []
          },
          "execution_count": 165
        }
      ]
    },
    {
      "cell_type": "code",
      "metadata": {
        "id": "X26dlOF-4-jC",
        "colab_type": "code",
        "colab": {}
      },
      "source": [
        ""
      ],
      "execution_count": 0,
      "outputs": []
    }
  ]
}